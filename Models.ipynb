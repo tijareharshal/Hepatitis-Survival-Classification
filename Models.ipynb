{
 "cells": [
  {
   "cell_type": "code",
   "execution_count": 1,
   "metadata": {},
   "outputs": [],
   "source": [
    "import numpy as np\n",
    "import pandas as pd\n",
    "from pandas import Series,DataFrame\n",
    "import matplotlib.pyplot as plt\n",
    "import seaborn as sns\n",
    "import warnings\n",
    "warnings.filterwarnings('ignore')\n",
    "from time import time"
   ]
  },
  {
   "cell_type": "code",
   "execution_count": 2,
   "metadata": {},
   "outputs": [
    {
     "data": {
      "text/html": [
       "<div>\n",
       "<style scoped>\n",
       "    .dataframe tbody tr th:only-of-type {\n",
       "        vertical-align: middle;\n",
       "    }\n",
       "\n",
       "    .dataframe tbody tr th {\n",
       "        vertical-align: top;\n",
       "    }\n",
       "\n",
       "    .dataframe thead th {\n",
       "        text-align: right;\n",
       "    }\n",
       "</style>\n",
       "<table border=\"1\" class=\"dataframe\">\n",
       "  <thead>\n",
       "    <tr style=\"text-align: right;\">\n",
       "      <th></th>\n",
       "      <th>Unnamed: 0</th>\n",
       "      <th>class</th>\n",
       "      <th>age</th>\n",
       "      <th>sex</th>\n",
       "      <th>steroid</th>\n",
       "      <th>antivirals</th>\n",
       "      <th>fatigue</th>\n",
       "      <th>malaise</th>\n",
       "      <th>anorexia</th>\n",
       "      <th>liver_big</th>\n",
       "      <th>...</th>\n",
       "      <th>spleen_palable</th>\n",
       "      <th>spiders</th>\n",
       "      <th>ascites</th>\n",
       "      <th>varices</th>\n",
       "      <th>bilirubin</th>\n",
       "      <th>alk_phosphate</th>\n",
       "      <th>sgot</th>\n",
       "      <th>albumin</th>\n",
       "      <th>protime</th>\n",
       "      <th>histology</th>\n",
       "    </tr>\n",
       "  </thead>\n",
       "  <tbody>\n",
       "    <tr>\n",
       "      <th>0</th>\n",
       "      <td>0</td>\n",
       "      <td>1</td>\n",
       "      <td>50</td>\n",
       "      <td>0</td>\n",
       "      <td>0.0</td>\n",
       "      <td>1</td>\n",
       "      <td>0.0</td>\n",
       "      <td>1.0</td>\n",
       "      <td>1.0</td>\n",
       "      <td>0.0</td>\n",
       "      <td>...</td>\n",
       "      <td>1.0</td>\n",
       "      <td>1.0</td>\n",
       "      <td>1.0</td>\n",
       "      <td>1.0</td>\n",
       "      <td>0.9</td>\n",
       "      <td>135.0</td>\n",
       "      <td>42.0</td>\n",
       "      <td>3.5</td>\n",
       "      <td>61.0</td>\n",
       "      <td>0</td>\n",
       "    </tr>\n",
       "    <tr>\n",
       "      <th>1</th>\n",
       "      <td>1</td>\n",
       "      <td>1</td>\n",
       "      <td>78</td>\n",
       "      <td>0</td>\n",
       "      <td>1.0</td>\n",
       "      <td>1</td>\n",
       "      <td>0.0</td>\n",
       "      <td>1.0</td>\n",
       "      <td>1.0</td>\n",
       "      <td>1.0</td>\n",
       "      <td>...</td>\n",
       "      <td>1.0</td>\n",
       "      <td>1.0</td>\n",
       "      <td>1.0</td>\n",
       "      <td>1.0</td>\n",
       "      <td>0.7</td>\n",
       "      <td>96.0</td>\n",
       "      <td>32.0</td>\n",
       "      <td>4.0</td>\n",
       "      <td>61.0</td>\n",
       "      <td>0</td>\n",
       "    </tr>\n",
       "    <tr>\n",
       "      <th>2</th>\n",
       "      <td>2</td>\n",
       "      <td>1</td>\n",
       "      <td>31</td>\n",
       "      <td>0</td>\n",
       "      <td>1.0</td>\n",
       "      <td>0</td>\n",
       "      <td>1.0</td>\n",
       "      <td>1.0</td>\n",
       "      <td>1.0</td>\n",
       "      <td>1.0</td>\n",
       "      <td>...</td>\n",
       "      <td>1.0</td>\n",
       "      <td>1.0</td>\n",
       "      <td>1.0</td>\n",
       "      <td>1.0</td>\n",
       "      <td>0.7</td>\n",
       "      <td>46.0</td>\n",
       "      <td>52.0</td>\n",
       "      <td>4.0</td>\n",
       "      <td>80.0</td>\n",
       "      <td>0</td>\n",
       "    </tr>\n",
       "    <tr>\n",
       "      <th>3</th>\n",
       "      <td>3</td>\n",
       "      <td>1</td>\n",
       "      <td>34</td>\n",
       "      <td>0</td>\n",
       "      <td>1.0</td>\n",
       "      <td>1</td>\n",
       "      <td>1.0</td>\n",
       "      <td>1.0</td>\n",
       "      <td>1.0</td>\n",
       "      <td>1.0</td>\n",
       "      <td>...</td>\n",
       "      <td>1.0</td>\n",
       "      <td>1.0</td>\n",
       "      <td>1.0</td>\n",
       "      <td>1.0</td>\n",
       "      <td>1.0</td>\n",
       "      <td>85.0</td>\n",
       "      <td>200.0</td>\n",
       "      <td>4.0</td>\n",
       "      <td>61.0</td>\n",
       "      <td>0</td>\n",
       "    </tr>\n",
       "    <tr>\n",
       "      <th>4</th>\n",
       "      <td>4</td>\n",
       "      <td>1</td>\n",
       "      <td>34</td>\n",
       "      <td>0</td>\n",
       "      <td>1.0</td>\n",
       "      <td>1</td>\n",
       "      <td>1.0</td>\n",
       "      <td>1.0</td>\n",
       "      <td>1.0</td>\n",
       "      <td>1.0</td>\n",
       "      <td>...</td>\n",
       "      <td>1.0</td>\n",
       "      <td>1.0</td>\n",
       "      <td>1.0</td>\n",
       "      <td>1.0</td>\n",
       "      <td>0.9</td>\n",
       "      <td>95.0</td>\n",
       "      <td>28.0</td>\n",
       "      <td>4.0</td>\n",
       "      <td>75.0</td>\n",
       "      <td>0</td>\n",
       "    </tr>\n",
       "  </tbody>\n",
       "</table>\n",
       "<p>5 rows × 21 columns</p>\n",
       "</div>"
      ],
      "text/plain": [
       "   Unnamed: 0  class  age  sex  steroid  antivirals  fatigue  malaise  \\\n",
       "0           0      1   50    0      0.0           1      0.0      1.0   \n",
       "1           1      1   78    0      1.0           1      0.0      1.0   \n",
       "2           2      1   31    0      1.0           0      1.0      1.0   \n",
       "3           3      1   34    0      1.0           1      1.0      1.0   \n",
       "4           4      1   34    0      1.0           1      1.0      1.0   \n",
       "\n",
       "   anorexia  liver_big  ...  spleen_palable  spiders  ascites  varices  \\\n",
       "0       1.0        0.0  ...             1.0      1.0      1.0      1.0   \n",
       "1       1.0        1.0  ...             1.0      1.0      1.0      1.0   \n",
       "2       1.0        1.0  ...             1.0      1.0      1.0      1.0   \n",
       "3       1.0        1.0  ...             1.0      1.0      1.0      1.0   \n",
       "4       1.0        1.0  ...             1.0      1.0      1.0      1.0   \n",
       "\n",
       "   bilirubin  alk_phosphate   sgot  albumin  protime  histology  \n",
       "0        0.9          135.0   42.0      3.5     61.0          0  \n",
       "1        0.7           96.0   32.0      4.0     61.0          0  \n",
       "2        0.7           46.0   52.0      4.0     80.0          0  \n",
       "3        1.0           85.0  200.0      4.0     61.0          0  \n",
       "4        0.9           95.0   28.0      4.0     75.0          0  \n",
       "\n",
       "[5 rows x 21 columns]"
      ]
     },
     "execution_count": 2,
     "metadata": {},
     "output_type": "execute_result"
    }
   ],
   "source": [
    "df=pd.read_csv('final.csv')\n",
    "df.head()"
   ]
  },
  {
   "cell_type": "code",
   "execution_count": 3,
   "metadata": {},
   "outputs": [
    {
     "data": {
      "text/html": [
       "<div>\n",
       "<style scoped>\n",
       "    .dataframe tbody tr th:only-of-type {\n",
       "        vertical-align: middle;\n",
       "    }\n",
       "\n",
       "    .dataframe tbody tr th {\n",
       "        vertical-align: top;\n",
       "    }\n",
       "\n",
       "    .dataframe thead th {\n",
       "        text-align: right;\n",
       "    }\n",
       "</style>\n",
       "<table border=\"1\" class=\"dataframe\">\n",
       "  <thead>\n",
       "    <tr style=\"text-align: right;\">\n",
       "      <th></th>\n",
       "      <th>class</th>\n",
       "      <th>age</th>\n",
       "      <th>sex</th>\n",
       "      <th>steroid</th>\n",
       "      <th>antivirals</th>\n",
       "      <th>fatigue</th>\n",
       "      <th>malaise</th>\n",
       "      <th>anorexia</th>\n",
       "      <th>liver_big</th>\n",
       "      <th>liver_firm</th>\n",
       "      <th>spleen_palable</th>\n",
       "      <th>spiders</th>\n",
       "      <th>ascites</th>\n",
       "      <th>varices</th>\n",
       "      <th>bilirubin</th>\n",
       "      <th>alk_phosphate</th>\n",
       "      <th>sgot</th>\n",
       "      <th>albumin</th>\n",
       "      <th>protime</th>\n",
       "      <th>histology</th>\n",
       "    </tr>\n",
       "  </thead>\n",
       "  <tbody>\n",
       "    <tr>\n",
       "      <th>0</th>\n",
       "      <td>1</td>\n",
       "      <td>50</td>\n",
       "      <td>0</td>\n",
       "      <td>0.0</td>\n",
       "      <td>1</td>\n",
       "      <td>0.0</td>\n",
       "      <td>1.0</td>\n",
       "      <td>1.0</td>\n",
       "      <td>0.0</td>\n",
       "      <td>1.0</td>\n",
       "      <td>1.0</td>\n",
       "      <td>1.0</td>\n",
       "      <td>1.0</td>\n",
       "      <td>1.0</td>\n",
       "      <td>0.9</td>\n",
       "      <td>135.0</td>\n",
       "      <td>42.0</td>\n",
       "      <td>3.5</td>\n",
       "      <td>61.0</td>\n",
       "      <td>0</td>\n",
       "    </tr>\n",
       "    <tr>\n",
       "      <th>1</th>\n",
       "      <td>1</td>\n",
       "      <td>78</td>\n",
       "      <td>0</td>\n",
       "      <td>1.0</td>\n",
       "      <td>1</td>\n",
       "      <td>0.0</td>\n",
       "      <td>1.0</td>\n",
       "      <td>1.0</td>\n",
       "      <td>1.0</td>\n",
       "      <td>1.0</td>\n",
       "      <td>1.0</td>\n",
       "      <td>1.0</td>\n",
       "      <td>1.0</td>\n",
       "      <td>1.0</td>\n",
       "      <td>0.7</td>\n",
       "      <td>96.0</td>\n",
       "      <td>32.0</td>\n",
       "      <td>4.0</td>\n",
       "      <td>61.0</td>\n",
       "      <td>0</td>\n",
       "    </tr>\n",
       "  </tbody>\n",
       "</table>\n",
       "</div>"
      ],
      "text/plain": [
       "   class  age  sex  steroid  antivirals  fatigue  malaise  anorexia  \\\n",
       "0      1   50    0      0.0           1      0.0      1.0       1.0   \n",
       "1      1   78    0      1.0           1      0.0      1.0       1.0   \n",
       "\n",
       "   liver_big  liver_firm  spleen_palable  spiders  ascites  varices  \\\n",
       "0        0.0         1.0             1.0      1.0      1.0      1.0   \n",
       "1        1.0         1.0             1.0      1.0      1.0      1.0   \n",
       "\n",
       "   bilirubin  alk_phosphate  sgot  albumin  protime  histology  \n",
       "0        0.9          135.0  42.0      3.5     61.0          0  \n",
       "1        0.7           96.0  32.0      4.0     61.0          0  "
      ]
     },
     "execution_count": 3,
     "metadata": {},
     "output_type": "execute_result"
    }
   ],
   "source": [
    "df.drop('Unnamed: 0',axis=1,inplace=True)\n",
    "df.head(2)"
   ]
  },
  {
   "cell_type": "code",
   "execution_count": 4,
   "metadata": {},
   "outputs": [
    {
     "data": {
      "text/plain": [
       "class             0\n",
       "age               0\n",
       "sex               0\n",
       "steroid           0\n",
       "antivirals        0\n",
       "fatigue           0\n",
       "malaise           0\n",
       "anorexia          0\n",
       "liver_big         0\n",
       "liver_firm        0\n",
       "spleen_palable    0\n",
       "spiders           0\n",
       "ascites           0\n",
       "varices           0\n",
       "bilirubin         0\n",
       "alk_phosphate     0\n",
       "sgot              0\n",
       "albumin           0\n",
       "protime           0\n",
       "histology         0\n",
       "dtype: int64"
      ]
     },
     "execution_count": 4,
     "metadata": {},
     "output_type": "execute_result"
    }
   ],
   "source": [
    "df.isnull().sum()"
   ]
  },
  {
   "cell_type": "code",
   "execution_count": 5,
   "metadata": {},
   "outputs": [
    {
     "data": {
      "text/html": [
       "<div>\n",
       "<style scoped>\n",
       "    .dataframe tbody tr th:only-of-type {\n",
       "        vertical-align: middle;\n",
       "    }\n",
       "\n",
       "    .dataframe tbody tr th {\n",
       "        vertical-align: top;\n",
       "    }\n",
       "\n",
       "    .dataframe thead th {\n",
       "        text-align: right;\n",
       "    }\n",
       "</style>\n",
       "<table border=\"1\" class=\"dataframe\">\n",
       "  <thead>\n",
       "    <tr style=\"text-align: right;\">\n",
       "      <th></th>\n",
       "      <th>class</th>\n",
       "      <th>age</th>\n",
       "      <th>sex</th>\n",
       "      <th>steroid</th>\n",
       "      <th>antivirals</th>\n",
       "      <th>fatigue</th>\n",
       "      <th>malaise</th>\n",
       "      <th>anorexia</th>\n",
       "      <th>liver_big</th>\n",
       "      <th>liver_firm</th>\n",
       "      <th>spleen_palable</th>\n",
       "      <th>spiders</th>\n",
       "      <th>ascites</th>\n",
       "      <th>varices</th>\n",
       "      <th>bilirubin</th>\n",
       "      <th>alk_phosphate</th>\n",
       "      <th>sgot</th>\n",
       "      <th>albumin</th>\n",
       "      <th>protime</th>\n",
       "      <th>histology</th>\n",
       "    </tr>\n",
       "  </thead>\n",
       "  <tbody>\n",
       "    <tr>\n",
       "      <th>count</th>\n",
       "      <td>154.000000</td>\n",
       "      <td>154.000000</td>\n",
       "      <td>154.000000</td>\n",
       "      <td>154.000000</td>\n",
       "      <td>154.000000</td>\n",
       "      <td>154.000000</td>\n",
       "      <td>154.000000</td>\n",
       "      <td>154.000000</td>\n",
       "      <td>154.000000</td>\n",
       "      <td>154.000000</td>\n",
       "      <td>154.000000</td>\n",
       "      <td>154.000000</td>\n",
       "      <td>154.000000</td>\n",
       "      <td>154.000000</td>\n",
       "      <td>154.000000</td>\n",
       "      <td>154.00000</td>\n",
       "      <td>154.000000</td>\n",
       "      <td>154.000000</td>\n",
       "      <td>154.000000</td>\n",
       "      <td>154.000000</td>\n",
       "    </tr>\n",
       "    <tr>\n",
       "      <th>mean</th>\n",
       "      <td>0.792208</td>\n",
       "      <td>41.272727</td>\n",
       "      <td>0.097403</td>\n",
       "      <td>0.512987</td>\n",
       "      <td>0.844156</td>\n",
       "      <td>0.344156</td>\n",
       "      <td>0.603896</td>\n",
       "      <td>0.792208</td>\n",
       "      <td>0.844156</td>\n",
       "      <td>0.610390</td>\n",
       "      <td>0.805195</td>\n",
       "      <td>0.668831</td>\n",
       "      <td>0.870130</td>\n",
       "      <td>0.883117</td>\n",
       "      <td>1.413636</td>\n",
       "      <td>101.62987</td>\n",
       "      <td>85.610390</td>\n",
       "      <td>3.835065</td>\n",
       "      <td>61.487013</td>\n",
       "      <td>0.454545</td>\n",
       "    </tr>\n",
       "    <tr>\n",
       "      <th>std</th>\n",
       "      <td>0.407051</td>\n",
       "      <td>12.574106</td>\n",
       "      <td>0.297473</td>\n",
       "      <td>0.501462</td>\n",
       "      <td>0.363891</td>\n",
       "      <td>0.476642</td>\n",
       "      <td>0.490682</td>\n",
       "      <td>0.407051</td>\n",
       "      <td>0.363891</td>\n",
       "      <td>0.489253</td>\n",
       "      <td>0.397343</td>\n",
       "      <td>0.472169</td>\n",
       "      <td>0.337257</td>\n",
       "      <td>0.322329</td>\n",
       "      <td>1.194599</td>\n",
       "      <td>47.21664</td>\n",
       "      <td>88.712012</td>\n",
       "      <td>0.621145</td>\n",
       "      <td>17.254813</td>\n",
       "      <td>0.499554</td>\n",
       "    </tr>\n",
       "    <tr>\n",
       "      <th>min</th>\n",
       "      <td>0.000000</td>\n",
       "      <td>7.000000</td>\n",
       "      <td>0.000000</td>\n",
       "      <td>0.000000</td>\n",
       "      <td>0.000000</td>\n",
       "      <td>0.000000</td>\n",
       "      <td>0.000000</td>\n",
       "      <td>0.000000</td>\n",
       "      <td>0.000000</td>\n",
       "      <td>0.000000</td>\n",
       "      <td>0.000000</td>\n",
       "      <td>0.000000</td>\n",
       "      <td>0.000000</td>\n",
       "      <td>0.000000</td>\n",
       "      <td>0.300000</td>\n",
       "      <td>26.00000</td>\n",
       "      <td>14.000000</td>\n",
       "      <td>2.100000</td>\n",
       "      <td>0.000000</td>\n",
       "      <td>0.000000</td>\n",
       "    </tr>\n",
       "    <tr>\n",
       "      <th>25%</th>\n",
       "      <td>1.000000</td>\n",
       "      <td>32.000000</td>\n",
       "      <td>0.000000</td>\n",
       "      <td>0.000000</td>\n",
       "      <td>1.000000</td>\n",
       "      <td>0.000000</td>\n",
       "      <td>0.000000</td>\n",
       "      <td>1.000000</td>\n",
       "      <td>1.000000</td>\n",
       "      <td>0.000000</td>\n",
       "      <td>1.000000</td>\n",
       "      <td>0.000000</td>\n",
       "      <td>1.000000</td>\n",
       "      <td>1.000000</td>\n",
       "      <td>0.800000</td>\n",
       "      <td>78.00000</td>\n",
       "      <td>33.000000</td>\n",
       "      <td>3.500000</td>\n",
       "      <td>57.000000</td>\n",
       "      <td>0.000000</td>\n",
       "    </tr>\n",
       "    <tr>\n",
       "      <th>50%</th>\n",
       "      <td>1.000000</td>\n",
       "      <td>39.000000</td>\n",
       "      <td>0.000000</td>\n",
       "      <td>1.000000</td>\n",
       "      <td>1.000000</td>\n",
       "      <td>0.000000</td>\n",
       "      <td>1.000000</td>\n",
       "      <td>1.000000</td>\n",
       "      <td>1.000000</td>\n",
       "      <td>1.000000</td>\n",
       "      <td>1.000000</td>\n",
       "      <td>1.000000</td>\n",
       "      <td>1.000000</td>\n",
       "      <td>1.000000</td>\n",
       "      <td>1.000000</td>\n",
       "      <td>85.00000</td>\n",
       "      <td>58.000000</td>\n",
       "      <td>4.000000</td>\n",
       "      <td>61.000000</td>\n",
       "      <td>0.000000</td>\n",
       "    </tr>\n",
       "    <tr>\n",
       "      <th>75%</th>\n",
       "      <td>1.000000</td>\n",
       "      <td>50.000000</td>\n",
       "      <td>0.000000</td>\n",
       "      <td>1.000000</td>\n",
       "      <td>1.000000</td>\n",
       "      <td>1.000000</td>\n",
       "      <td>1.000000</td>\n",
       "      <td>1.000000</td>\n",
       "      <td>1.000000</td>\n",
       "      <td>1.000000</td>\n",
       "      <td>1.000000</td>\n",
       "      <td>1.000000</td>\n",
       "      <td>1.000000</td>\n",
       "      <td>1.000000</td>\n",
       "      <td>1.500000</td>\n",
       "      <td>119.75000</td>\n",
       "      <td>99.500000</td>\n",
       "      <td>4.200000</td>\n",
       "      <td>65.500000</td>\n",
       "      <td>1.000000</td>\n",
       "    </tr>\n",
       "    <tr>\n",
       "      <th>max</th>\n",
       "      <td>1.000000</td>\n",
       "      <td>78.000000</td>\n",
       "      <td>1.000000</td>\n",
       "      <td>1.000000</td>\n",
       "      <td>1.000000</td>\n",
       "      <td>1.000000</td>\n",
       "      <td>1.000000</td>\n",
       "      <td>1.000000</td>\n",
       "      <td>1.000000</td>\n",
       "      <td>1.000000</td>\n",
       "      <td>1.000000</td>\n",
       "      <td>1.000000</td>\n",
       "      <td>1.000000</td>\n",
       "      <td>1.000000</td>\n",
       "      <td>8.000000</td>\n",
       "      <td>295.00000</td>\n",
       "      <td>648.000000</td>\n",
       "      <td>6.400000</td>\n",
       "      <td>100.000000</td>\n",
       "      <td>1.000000</td>\n",
       "    </tr>\n",
       "  </tbody>\n",
       "</table>\n",
       "</div>"
      ],
      "text/plain": [
       "            class         age         sex     steroid  antivirals     fatigue  \\\n",
       "count  154.000000  154.000000  154.000000  154.000000  154.000000  154.000000   \n",
       "mean     0.792208   41.272727    0.097403    0.512987    0.844156    0.344156   \n",
       "std      0.407051   12.574106    0.297473    0.501462    0.363891    0.476642   \n",
       "min      0.000000    7.000000    0.000000    0.000000    0.000000    0.000000   \n",
       "25%      1.000000   32.000000    0.000000    0.000000    1.000000    0.000000   \n",
       "50%      1.000000   39.000000    0.000000    1.000000    1.000000    0.000000   \n",
       "75%      1.000000   50.000000    0.000000    1.000000    1.000000    1.000000   \n",
       "max      1.000000   78.000000    1.000000    1.000000    1.000000    1.000000   \n",
       "\n",
       "          malaise    anorexia   liver_big  liver_firm  spleen_palable  \\\n",
       "count  154.000000  154.000000  154.000000  154.000000      154.000000   \n",
       "mean     0.603896    0.792208    0.844156    0.610390        0.805195   \n",
       "std      0.490682    0.407051    0.363891    0.489253        0.397343   \n",
       "min      0.000000    0.000000    0.000000    0.000000        0.000000   \n",
       "25%      0.000000    1.000000    1.000000    0.000000        1.000000   \n",
       "50%      1.000000    1.000000    1.000000    1.000000        1.000000   \n",
       "75%      1.000000    1.000000    1.000000    1.000000        1.000000   \n",
       "max      1.000000    1.000000    1.000000    1.000000        1.000000   \n",
       "\n",
       "          spiders     ascites     varices   bilirubin  alk_phosphate  \\\n",
       "count  154.000000  154.000000  154.000000  154.000000      154.00000   \n",
       "mean     0.668831    0.870130    0.883117    1.413636      101.62987   \n",
       "std      0.472169    0.337257    0.322329    1.194599       47.21664   \n",
       "min      0.000000    0.000000    0.000000    0.300000       26.00000   \n",
       "25%      0.000000    1.000000    1.000000    0.800000       78.00000   \n",
       "50%      1.000000    1.000000    1.000000    1.000000       85.00000   \n",
       "75%      1.000000    1.000000    1.000000    1.500000      119.75000   \n",
       "max      1.000000    1.000000    1.000000    8.000000      295.00000   \n",
       "\n",
       "             sgot     albumin     protime   histology  \n",
       "count  154.000000  154.000000  154.000000  154.000000  \n",
       "mean    85.610390    3.835065   61.487013    0.454545  \n",
       "std     88.712012    0.621145   17.254813    0.499554  \n",
       "min     14.000000    2.100000    0.000000    0.000000  \n",
       "25%     33.000000    3.500000   57.000000    0.000000  \n",
       "50%     58.000000    4.000000   61.000000    0.000000  \n",
       "75%     99.500000    4.200000   65.500000    1.000000  \n",
       "max    648.000000    6.400000  100.000000    1.000000  "
      ]
     },
     "execution_count": 5,
     "metadata": {},
     "output_type": "execute_result"
    }
   ],
   "source": [
    "df.describe()"
   ]
  },
  {
   "cell_type": "code",
   "execution_count": 6,
   "metadata": {},
   "outputs": [
    {
     "data": {
      "text/plain": [
       "array([50, 78, 31, 34, 51, 23, 39, 30, 32, 41, 47, 38, 66, 40, 22, 27, 42,\n",
       "       25, 49, 58, 61, 62, 26, 35, 37, 20, 65, 52, 33, 56, 28, 36, 44, 64,\n",
       "       45, 57, 24, 67, 59, 60, 48, 54,  7, 69, 72, 70, 46, 53, 43],\n",
       "      dtype=int64)"
      ]
     },
     "execution_count": 6,
     "metadata": {},
     "output_type": "execute_result"
    }
   ],
   "source": [
    "df['age'].unique()"
   ]
  },
  {
   "cell_type": "code",
   "execution_count": 7,
   "metadata": {},
   "outputs": [],
   "source": [
    "df['age']=np.where((df['age'] <18) ,'Teenager/Child',\n",
    "                               np.where((df['age'] >=18) & (df['age'] <=25),'Young',\n",
    "                                np.where((df['age'] >=25) & (df['age'] <=40),'Adult',\n",
    "                               'Old')))"
   ]
  },
  {
   "cell_type": "code",
   "execution_count": 8,
   "metadata": {},
   "outputs": [
    {
     "data": {
      "text/plain": [
       "Old               72\n",
       "Adult             67\n",
       "Young             14\n",
       "Teenager/Child     1\n",
       "Name: age, dtype: int64"
      ]
     },
     "execution_count": 8,
     "metadata": {},
     "output_type": "execute_result"
    }
   ],
   "source": [
    "df['age'].value_counts()"
   ]
  },
  {
   "cell_type": "code",
   "execution_count": 9,
   "metadata": {},
   "outputs": [
    {
     "data": {
      "text/html": [
       "<div>\n",
       "<style scoped>\n",
       "    .dataframe tbody tr th:only-of-type {\n",
       "        vertical-align: middle;\n",
       "    }\n",
       "\n",
       "    .dataframe tbody tr th {\n",
       "        vertical-align: top;\n",
       "    }\n",
       "\n",
       "    .dataframe thead th {\n",
       "        text-align: right;\n",
       "    }\n",
       "</style>\n",
       "<table border=\"1\" class=\"dataframe\">\n",
       "  <thead>\n",
       "    <tr style=\"text-align: right;\">\n",
       "      <th></th>\n",
       "      <th>class</th>\n",
       "      <th>sex</th>\n",
       "      <th>steroid</th>\n",
       "      <th>antivirals</th>\n",
       "      <th>fatigue</th>\n",
       "      <th>malaise</th>\n",
       "      <th>anorexia</th>\n",
       "      <th>liver_big</th>\n",
       "      <th>liver_firm</th>\n",
       "      <th>spleen_palable</th>\n",
       "      <th>...</th>\n",
       "      <th>bilirubin</th>\n",
       "      <th>alk_phosphate</th>\n",
       "      <th>sgot</th>\n",
       "      <th>albumin</th>\n",
       "      <th>protime</th>\n",
       "      <th>histology</th>\n",
       "      <th>age_Adult</th>\n",
       "      <th>age_Old</th>\n",
       "      <th>age_Teenager/Child</th>\n",
       "      <th>age_Young</th>\n",
       "    </tr>\n",
       "  </thead>\n",
       "  <tbody>\n",
       "    <tr>\n",
       "      <th>0</th>\n",
       "      <td>1</td>\n",
       "      <td>0</td>\n",
       "      <td>0.0</td>\n",
       "      <td>1</td>\n",
       "      <td>0.0</td>\n",
       "      <td>1.0</td>\n",
       "      <td>1.0</td>\n",
       "      <td>0.0</td>\n",
       "      <td>1.0</td>\n",
       "      <td>1.0</td>\n",
       "      <td>...</td>\n",
       "      <td>0.9</td>\n",
       "      <td>135.0</td>\n",
       "      <td>42.0</td>\n",
       "      <td>3.5</td>\n",
       "      <td>61.0</td>\n",
       "      <td>0</td>\n",
       "      <td>0</td>\n",
       "      <td>1</td>\n",
       "      <td>0</td>\n",
       "      <td>0</td>\n",
       "    </tr>\n",
       "    <tr>\n",
       "      <th>1</th>\n",
       "      <td>1</td>\n",
       "      <td>0</td>\n",
       "      <td>1.0</td>\n",
       "      <td>1</td>\n",
       "      <td>0.0</td>\n",
       "      <td>1.0</td>\n",
       "      <td>1.0</td>\n",
       "      <td>1.0</td>\n",
       "      <td>1.0</td>\n",
       "      <td>1.0</td>\n",
       "      <td>...</td>\n",
       "      <td>0.7</td>\n",
       "      <td>96.0</td>\n",
       "      <td>32.0</td>\n",
       "      <td>4.0</td>\n",
       "      <td>61.0</td>\n",
       "      <td>0</td>\n",
       "      <td>0</td>\n",
       "      <td>1</td>\n",
       "      <td>0</td>\n",
       "      <td>0</td>\n",
       "    </tr>\n",
       "    <tr>\n",
       "      <th>2</th>\n",
       "      <td>1</td>\n",
       "      <td>0</td>\n",
       "      <td>1.0</td>\n",
       "      <td>0</td>\n",
       "      <td>1.0</td>\n",
       "      <td>1.0</td>\n",
       "      <td>1.0</td>\n",
       "      <td>1.0</td>\n",
       "      <td>1.0</td>\n",
       "      <td>1.0</td>\n",
       "      <td>...</td>\n",
       "      <td>0.7</td>\n",
       "      <td>46.0</td>\n",
       "      <td>52.0</td>\n",
       "      <td>4.0</td>\n",
       "      <td>80.0</td>\n",
       "      <td>0</td>\n",
       "      <td>1</td>\n",
       "      <td>0</td>\n",
       "      <td>0</td>\n",
       "      <td>0</td>\n",
       "    </tr>\n",
       "    <tr>\n",
       "      <th>3</th>\n",
       "      <td>1</td>\n",
       "      <td>0</td>\n",
       "      <td>1.0</td>\n",
       "      <td>1</td>\n",
       "      <td>1.0</td>\n",
       "      <td>1.0</td>\n",
       "      <td>1.0</td>\n",
       "      <td>1.0</td>\n",
       "      <td>1.0</td>\n",
       "      <td>1.0</td>\n",
       "      <td>...</td>\n",
       "      <td>1.0</td>\n",
       "      <td>85.0</td>\n",
       "      <td>200.0</td>\n",
       "      <td>4.0</td>\n",
       "      <td>61.0</td>\n",
       "      <td>0</td>\n",
       "      <td>1</td>\n",
       "      <td>0</td>\n",
       "      <td>0</td>\n",
       "      <td>0</td>\n",
       "    </tr>\n",
       "    <tr>\n",
       "      <th>4</th>\n",
       "      <td>1</td>\n",
       "      <td>0</td>\n",
       "      <td>1.0</td>\n",
       "      <td>1</td>\n",
       "      <td>1.0</td>\n",
       "      <td>1.0</td>\n",
       "      <td>1.0</td>\n",
       "      <td>1.0</td>\n",
       "      <td>1.0</td>\n",
       "      <td>1.0</td>\n",
       "      <td>...</td>\n",
       "      <td>0.9</td>\n",
       "      <td>95.0</td>\n",
       "      <td>28.0</td>\n",
       "      <td>4.0</td>\n",
       "      <td>75.0</td>\n",
       "      <td>0</td>\n",
       "      <td>1</td>\n",
       "      <td>0</td>\n",
       "      <td>0</td>\n",
       "      <td>0</td>\n",
       "    </tr>\n",
       "  </tbody>\n",
       "</table>\n",
       "<p>5 rows × 23 columns</p>\n",
       "</div>"
      ],
      "text/plain": [
       "   class  sex  steroid  antivirals  fatigue  malaise  anorexia  liver_big  \\\n",
       "0      1    0      0.0           1      0.0      1.0       1.0        0.0   \n",
       "1      1    0      1.0           1      0.0      1.0       1.0        1.0   \n",
       "2      1    0      1.0           0      1.0      1.0       1.0        1.0   \n",
       "3      1    0      1.0           1      1.0      1.0       1.0        1.0   \n",
       "4      1    0      1.0           1      1.0      1.0       1.0        1.0   \n",
       "\n",
       "   liver_firm  spleen_palable  ...  bilirubin  alk_phosphate   sgot  albumin  \\\n",
       "0         1.0             1.0  ...        0.9          135.0   42.0      3.5   \n",
       "1         1.0             1.0  ...        0.7           96.0   32.0      4.0   \n",
       "2         1.0             1.0  ...        0.7           46.0   52.0      4.0   \n",
       "3         1.0             1.0  ...        1.0           85.0  200.0      4.0   \n",
       "4         1.0             1.0  ...        0.9           95.0   28.0      4.0   \n",
       "\n",
       "   protime  histology  age_Adult  age_Old  age_Teenager/Child  age_Young  \n",
       "0     61.0          0          0        1                   0          0  \n",
       "1     61.0          0          0        1                   0          0  \n",
       "2     80.0          0          1        0                   0          0  \n",
       "3     61.0          0          1        0                   0          0  \n",
       "4     75.0          0          1        0                   0          0  \n",
       "\n",
       "[5 rows x 23 columns]"
      ]
     },
     "execution_count": 9,
     "metadata": {},
     "output_type": "execute_result"
    }
   ],
   "source": [
    "df=pd.get_dummies(df)\n",
    "df.head()"
   ]
  },
  {
   "cell_type": "code",
   "execution_count": 10,
   "metadata": {},
   "outputs": [
    {
     "data": {
      "text/plain": [
       "Index(['class', 'sex', 'steroid', 'antivirals', 'fatigue', 'malaise',\n",
       "       'anorexia', 'liver_big', 'liver_firm', 'spleen_palable', 'spiders',\n",
       "       'ascites', 'varices', 'bilirubin', 'alk_phosphate', 'sgot', 'albumin',\n",
       "       'protime', 'histology', 'age_Adult', 'age_Old', 'age_Teenager/Child',\n",
       "       'age_Young'],\n",
       "      dtype='object')"
      ]
     },
     "execution_count": 10,
     "metadata": {},
     "output_type": "execute_result"
    }
   ],
   "source": [
    "df.columns"
   ]
  },
  {
   "cell_type": "code",
   "execution_count": 11,
   "metadata": {},
   "outputs": [],
   "source": [
    "x=df.iloc[:,1:]\n",
    "y=df['class']\n",
    "from sklearn.model_selection import train_test_split\n",
    "x_train,x_test,y_train,y_test=train_test_split(x,y,test_size=0.2,random_state=0)"
   ]
  },
  {
   "cell_type": "code",
   "execution_count": 12,
   "metadata": {},
   "outputs": [],
   "source": [
    "from sklearn.preprocessing import StandardScaler\n",
    "sc=StandardScaler()"
   ]
  },
  {
   "cell_type": "code",
   "execution_count": 13,
   "metadata": {},
   "outputs": [],
   "source": [
    "scale=['bilirubin', 'alk_phosphate', 'sgot', 'albumin']\n",
    "x_train[scale]=sc.fit_transform(x_train[scale])\n",
    "x_test[scale]=sc.transform(x_test[scale])"
   ]
  },
  {
   "cell_type": "markdown",
   "metadata": {},
   "source": [
    "### Logistic Regression"
   ]
  },
  {
   "cell_type": "code",
   "execution_count": 14,
   "metadata": {},
   "outputs": [],
   "source": [
    "from sklearn.linear_model import LogisticRegression\n",
    "reg=LogisticRegression()"
   ]
  },
  {
   "cell_type": "code",
   "execution_count": 15,
   "metadata": {},
   "outputs": [],
   "source": [
    "from sklearn.model_selection import RandomizedSearchCV"
   ]
  },
  {
   "cell_type": "code",
   "execution_count": 16,
   "metadata": {},
   "outputs": [],
   "source": [
    "params_reg= {'C': [0.001, 0.01, 0.1, 1, 10, 100, 1000] ,'max_iter':[100,150,200,250,300]}"
   ]
  },
  {
   "cell_type": "code",
   "execution_count": 17,
   "metadata": {},
   "outputs": [
    {
     "data": {
      "text/plain": [
       "RandomizedSearchCV(cv=10, estimator=LogisticRegression(),\n",
       "                   param_distributions={'C': [0.001, 0.01, 0.1, 1, 10, 100,\n",
       "                                              1000],\n",
       "                                        'max_iter': [100, 150, 200, 250, 300]},\n",
       "                   random_state=42)"
      ]
     },
     "execution_count": 17,
     "metadata": {},
     "output_type": "execute_result"
    }
   ],
   "source": [
    "reg_cv=RandomizedSearchCV(reg,params_reg,cv=10,random_state=42)\n",
    "reg_cv.fit(x_train,y_train)"
   ]
  },
  {
   "cell_type": "code",
   "execution_count": 18,
   "metadata": {},
   "outputs": [
    {
     "name": "stdout",
     "output_type": "stream",
     "text": [
      "0.8685897435897436\n",
      "{'max_iter': 250, 'C': 0.1}\n"
     ]
    }
   ],
   "source": [
    "print(reg_cv.best_score_)\n",
    "print(reg_cv.best_params_)"
   ]
  },
  {
   "cell_type": "code",
   "execution_count": 19,
   "metadata": {},
   "outputs": [],
   "source": [
    "log_reg=LogisticRegression(max_iter=250,C=0.1)\n",
    "start_reg=time()\n",
    "log_reg.fit(x_train,y_train)\n",
    "end_reg=time()\n",
    "time_reg=end_reg-start_reg"
   ]
  },
  {
   "cell_type": "code",
   "execution_count": 20,
   "metadata": {},
   "outputs": [
    {
     "name": "stdout",
     "output_type": "stream",
     "text": [
      "Training score:  0.8861788617886179\n",
      "Testing score:  0.8387096774193549\n",
      "Training time:  0.030916929244995117\n"
     ]
    }
   ],
   "source": [
    "log_train_time = log_reg.score(x_train,y_train)\n",
    "log_test_time = log_reg.score(x_test,y_test)\n",
    "print('Training score: ',log_reg.score(x_train,y_train))\n",
    "print('Testing score: ',log_reg.score(x_test,y_test))\n",
    "print('Training time: ',time_reg)"
   ]
  },
  {
   "cell_type": "code",
   "execution_count": 21,
   "metadata": {},
   "outputs": [
    {
     "data": {
      "text/plain": [
       "array([0, 1, 1, 1, 1, 1, 1, 1, 1, 1, 1, 1, 1, 1, 0, 1, 1, 1, 1, 1, 1, 1,\n",
       "       0, 0, 1, 1, 1, 0, 1, 1, 1], dtype=int64)"
      ]
     },
     "execution_count": 21,
     "metadata": {},
     "output_type": "execute_result"
    }
   ],
   "source": [
    "y_predict_reg=log_reg.predict(x_test)\n",
    "y_predict_reg"
   ]
  },
  {
   "cell_type": "code",
   "execution_count": 22,
   "metadata": {},
   "outputs": [],
   "source": [
    "from sklearn.metrics import accuracy_score,confusion_matrix,classification_report"
   ]
  },
  {
   "cell_type": "code",
   "execution_count": 23,
   "metadata": {},
   "outputs": [
    {
     "data": {
      "text/plain": [
       "0.8387096774193549"
      ]
     },
     "execution_count": 23,
     "metadata": {},
     "output_type": "execute_result"
    }
   ],
   "source": [
    "accuracy_score(y_test,y_predict_reg)"
   ]
  },
  {
   "cell_type": "code",
   "execution_count": 24,
   "metadata": {},
   "outputs": [
    {
     "data": {
      "text/plain": [
       "array([[ 3,  3],\n",
       "       [ 2, 23]], dtype=int64)"
      ]
     },
     "execution_count": 24,
     "metadata": {},
     "output_type": "execute_result"
    }
   ],
   "source": [
    "cm_reg=confusion_matrix(y_test,y_predict_reg)\n",
    "cm_reg"
   ]
  },
  {
   "cell_type": "code",
   "execution_count": 25,
   "metadata": {},
   "outputs": [
    {
     "name": "stdout",
     "output_type": "stream",
     "text": [
      "              precision    recall  f1-score   support\n",
      "\n",
      "           0       0.60      0.50      0.55         6\n",
      "           1       0.88      0.92      0.90        25\n",
      "\n",
      "    accuracy                           0.84        31\n",
      "   macro avg       0.74      0.71      0.72        31\n",
      "weighted avg       0.83      0.84      0.83        31\n",
      "\n"
     ]
    }
   ],
   "source": [
    "print(classification_report(y_test,y_predict_reg))"
   ]
  },
  {
   "cell_type": "markdown",
   "metadata": {},
   "source": [
    "### Decision Tree Classifier"
   ]
  },
  {
   "cell_type": "code",
   "execution_count": 26,
   "metadata": {},
   "outputs": [],
   "source": [
    "from sklearn.tree import DecisionTreeClassifier\n",
    "dt=DecisionTreeClassifier()"
   ]
  },
  {
   "cell_type": "code",
   "execution_count": 27,
   "metadata": {},
   "outputs": [],
   "source": [
    "params_dt={'criterion':['gini','entropy'],'min_samples_split':np.arange(2,10),'splitter':['best','random'],'max_depth':[2,3,4,5,6],'max_features':['auto','sqrt','log2',None]}"
   ]
  },
  {
   "cell_type": "code",
   "execution_count": 28,
   "metadata": {},
   "outputs": [
    {
     "data": {
      "text/plain": [
       "RandomizedSearchCV(cv=10, estimator=DecisionTreeClassifier(),\n",
       "                   param_distributions={'criterion': ['gini', 'entropy'],\n",
       "                                        'max_depth': [2, 3, 4, 5, 6],\n",
       "                                        'max_features': ['auto', 'sqrt', 'log2',\n",
       "                                                         None],\n",
       "                                        'min_samples_split': array([2, 3, 4, 5, 6, 7, 8, 9]),\n",
       "                                        'splitter': ['best', 'random']},\n",
       "                   random_state=15)"
      ]
     },
     "execution_count": 28,
     "metadata": {},
     "output_type": "execute_result"
    }
   ],
   "source": [
    "dt_cv=RandomizedSearchCV(dt,params_dt,cv=10,random_state=15)\n",
    "dt_cv.fit(x_train,y_train)"
   ]
  },
  {
   "cell_type": "code",
   "execution_count": 29,
   "metadata": {},
   "outputs": [
    {
     "name": "stdout",
     "output_type": "stream",
     "text": [
      "0.860897435897436\n",
      "{'splitter': 'best', 'min_samples_split': 7, 'max_features': 'sqrt', 'max_depth': 4, 'criterion': 'entropy'}\n"
     ]
    }
   ],
   "source": [
    "print(dt_cv.best_score_)\n",
    "print(dt_cv.best_params_)"
   ]
  },
  {
   "cell_type": "code",
   "execution_count": 30,
   "metadata": {},
   "outputs": [],
   "source": [
    "decision_tree=DecisionTreeClassifier(splitter='random',min_samples_split=2,max_features='log2',max_depth=6,criterion='entropy',random_state=10)\n",
    "start_dt=time()\n",
    "decision_tree.fit(x_train,y_train)\n",
    "end_dt=time()\n",
    "time_dt=end_dt-start_dt"
   ]
  },
  {
   "cell_type": "code",
   "execution_count": 31,
   "metadata": {},
   "outputs": [
    {
     "name": "stdout",
     "output_type": "stream",
     "text": [
      "Training score:  0.9512195121951219\n",
      "Testing score:  0.8064516129032258\n",
      "Training time:  0.0029909610748291016\n"
     ]
    }
   ],
   "source": [
    "dt_train_time = decision_tree.score(x_train,y_train)\n",
    "dt_test_time = decision_tree.score(x_test,y_test)\n",
    "print('Training score: ',decision_tree.score(x_train,y_train))\n",
    "print('Testing score: ',decision_tree.score(x_test,y_test))\n",
    "print('Training time: ',time_dt)"
   ]
  },
  {
   "cell_type": "code",
   "execution_count": 32,
   "metadata": {},
   "outputs": [
    {
     "data": {
      "text/plain": [
       "array([0, 1, 1, 1, 1, 1, 1, 1, 1, 1, 1, 1, 1, 1, 1, 1, 1, 1, 1, 1, 1, 1,\n",
       "       0, 0, 1, 1, 1, 0, 1, 1, 1], dtype=int64)"
      ]
     },
     "execution_count": 32,
     "metadata": {},
     "output_type": "execute_result"
    }
   ],
   "source": [
    "y_predict_dt=decision_tree.predict(x_test)\n",
    "y_predict_dt"
   ]
  },
  {
   "cell_type": "code",
   "execution_count": 33,
   "metadata": {},
   "outputs": [
    {
     "name": "stdout",
     "output_type": "stream",
     "text": [
      "[[ 2  4]\n",
      " [ 2 23]]\n"
     ]
    }
   ],
   "source": [
    "cm_dt=confusion_matrix(y_test,y_predict_dt)\n",
    "print(cm_dt)"
   ]
  },
  {
   "cell_type": "code",
   "execution_count": 34,
   "metadata": {},
   "outputs": [
    {
     "name": "stdout",
     "output_type": "stream",
     "text": [
      "              precision    recall  f1-score   support\n",
      "\n",
      "           0       0.50      0.33      0.40         6\n",
      "           1       0.85      0.92      0.88        25\n",
      "\n",
      "    accuracy                           0.81        31\n",
      "   macro avg       0.68      0.63      0.64        31\n",
      "weighted avg       0.78      0.81      0.79        31\n",
      "\n"
     ]
    }
   ],
   "source": [
    "print(classification_report(y_test,y_predict_dt))"
   ]
  },
  {
   "cell_type": "markdown",
   "metadata": {},
   "source": [
    "### Random Forest Classifier"
   ]
  },
  {
   "cell_type": "code",
   "execution_count": 35,
   "metadata": {},
   "outputs": [],
   "source": [
    "from sklearn.ensemble import RandomForestClassifier\n",
    "rf=RandomForestClassifier()"
   ]
  },
  {
   "cell_type": "code",
   "execution_count": 36,
   "metadata": {},
   "outputs": [],
   "source": [
    "params_rf={'n_estimators':[5,10,15,20,50,100,200,300,400,500],'criterion':['entropy','gini'],'max_depth':[2,3,4,5,6],'max_features':['auto','sqrt','log2',None],'bootstrap':[True,False]}"
   ]
  },
  {
   "cell_type": "raw",
   "metadata": {},
   "source": []
  },
  {
   "cell_type": "code",
   "execution_count": 37,
   "metadata": {},
   "outputs": [
    {
     "data": {
      "text/plain": [
       "RandomizedSearchCV(cv=10, estimator=RandomForestClassifier(),\n",
       "                   param_distributions={'bootstrap': [True, False],\n",
       "                                        'criterion': ['entropy', 'gini'],\n",
       "                                        'max_depth': [2, 3, 4, 5, 6],\n",
       "                                        'max_features': ['auto', 'sqrt', 'log2',\n",
       "                                                         None],\n",
       "                                        'n_estimators': [5, 10, 15, 20, 50, 100,\n",
       "                                                         200, 300, 400, 500]},\n",
       "                   random_state=15)"
      ]
     },
     "execution_count": 37,
     "metadata": {},
     "output_type": "execute_result"
    }
   ],
   "source": [
    "rf_cv=RandomizedSearchCV(rf,params_rf,cv=10,random_state=15)\n",
    "rf_cv.fit(x_train,y_train)"
   ]
  },
  {
   "cell_type": "code",
   "execution_count": 38,
   "metadata": {},
   "outputs": [
    {
     "name": "stdout",
     "output_type": "stream",
     "text": [
      "0.8935897435897434\n",
      "{'n_estimators': 200, 'max_features': 'sqrt', 'max_depth': 4, 'criterion': 'gini', 'bootstrap': True}\n"
     ]
    }
   ],
   "source": [
    "print(rf_cv.best_score_)\n",
    "print(rf_cv.best_params_)"
   ]
  },
  {
   "cell_type": "code",
   "execution_count": 39,
   "metadata": {},
   "outputs": [],
   "source": [
    "random_forest=RandomForestClassifier(n_estimators=300,max_features='log2',max_depth=5,criterion='gini',bootstrap=False,random_state=0)\n",
    "start_rf=time()\n",
    "random_forest.fit(x_train,y_train)\n",
    "end_rf=time()\n",
    "time_rf=end_rf-start_rf"
   ]
  },
  {
   "cell_type": "code",
   "execution_count": 40,
   "metadata": {},
   "outputs": [
    {
     "name": "stdout",
     "output_type": "stream",
     "text": [
      "Training score:  0.967479674796748\n",
      "Testing score:  0.7419354838709677\n",
      "Training time:  0.3071780204772949\n"
     ]
    }
   ],
   "source": [
    "rf_train_time = random_forest.score(x_train,y_train)\n",
    "rf_test_time = random_forest.score(x_test,y_test)\n",
    "print('Training score: ',random_forest.score(x_train,y_train))\n",
    "print('Testing score: ',random_forest.score(x_test,y_test))\n",
    "print('Training time: ',time_rf)"
   ]
  },
  {
   "cell_type": "code",
   "execution_count": 41,
   "metadata": {},
   "outputs": [
    {
     "data": {
      "text/plain": [
       "array([0, 1, 1, 1, 1, 1, 1, 1, 1, 1, 0, 1, 1, 1, 1, 1, 1, 1, 1, 1, 1, 1,\n",
       "       0, 1, 1, 1, 1, 0, 1, 1, 1], dtype=int64)"
      ]
     },
     "execution_count": 41,
     "metadata": {},
     "output_type": "execute_result"
    }
   ],
   "source": [
    "y_predict_rf=random_forest.predict(x_test)\n",
    "y_predict_rf"
   ]
  },
  {
   "cell_type": "code",
   "execution_count": 42,
   "metadata": {},
   "outputs": [
    {
     "name": "stdout",
     "output_type": "stream",
     "text": [
      "[[ 1  5]\n",
      " [ 3 22]]\n"
     ]
    }
   ],
   "source": [
    "cm_rf=confusion_matrix(y_test,y_predict_rf)\n",
    "print(cm_rf)"
   ]
  },
  {
   "cell_type": "code",
   "execution_count": 43,
   "metadata": {},
   "outputs": [
    {
     "name": "stdout",
     "output_type": "stream",
     "text": [
      "              precision    recall  f1-score   support\n",
      "\n",
      "           0       0.25      0.17      0.20         6\n",
      "           1       0.81      0.88      0.85        25\n",
      "\n",
      "    accuracy                           0.74        31\n",
      "   macro avg       0.53      0.52      0.52        31\n",
      "weighted avg       0.71      0.74      0.72        31\n",
      "\n"
     ]
    }
   ],
   "source": [
    "print(classification_report(y_test,y_predict_rf))"
   ]
  },
  {
   "cell_type": "markdown",
   "metadata": {},
   "source": [
    "### KNN"
   ]
  },
  {
   "cell_type": "code",
   "execution_count": 44,
   "metadata": {},
   "outputs": [],
   "source": [
    "from sklearn.neighbors import KNeighborsClassifier\n",
    "knn=KNeighborsClassifier()"
   ]
  },
  {
   "cell_type": "code",
   "execution_count": 45,
   "metadata": {},
   "outputs": [],
   "source": [
    "params_knn={'n_neighbors':[5,6,7,8,9,10]}"
   ]
  },
  {
   "cell_type": "code",
   "execution_count": 46,
   "metadata": {},
   "outputs": [
    {
     "name": "stdout",
     "output_type": "stream",
     "text": [
      "0.8455128205128204\n",
      "{'n_neighbors': 10}\n"
     ]
    }
   ],
   "source": [
    "knn_cv=RandomizedSearchCV(knn,params_knn,cv=10,random_state=42)\n",
    "knn_cv.fit(x_train,y_train)\n",
    "print(knn_cv.best_score_)\n",
    "print(knn_cv.best_params_)"
   ]
  },
  {
   "cell_type": "code",
   "execution_count": 47,
   "metadata": {},
   "outputs": [],
   "source": [
    "KNN=KNeighborsClassifier(n_neighbors=10)\n",
    "start_knn=time()\n",
    "KNN.fit(x_train,y_train)\n",
    "end_knn=time()\n",
    "time_knn=end_knn-start_knn"
   ]
  },
  {
   "cell_type": "code",
   "execution_count": 48,
   "metadata": {},
   "outputs": [
    {
     "name": "stdout",
     "output_type": "stream",
     "text": [
      "Training score:  0.8455284552845529\n",
      "Testing score:  0.8064516129032258\n",
      "Training time:  0.003975629806518555\n"
     ]
    }
   ],
   "source": [
    "knn_train_time = KNN.score(x_train,y_train)\n",
    "knn_test_time = KNN.score(x_test,y_test)\n",
    "print('Training score: ',KNN.score(x_train,y_train))\n",
    "print('Testing score: ',KNN.score(x_test,y_test))\n",
    "print('Training time: ',time_knn)"
   ]
  },
  {
   "cell_type": "code",
   "execution_count": 49,
   "metadata": {},
   "outputs": [
    {
     "data": {
      "text/plain": [
       "array([0, 0, 1, 1, 1, 1, 1, 1, 1, 1, 1, 0, 1, 1, 0, 1, 1, 1, 1, 1, 1, 1,\n",
       "       0, 1, 1, 1, 1, 0, 1, 1, 1], dtype=int64)"
      ]
     },
     "execution_count": 49,
     "metadata": {},
     "output_type": "execute_result"
    }
   ],
   "source": [
    "y_predict_knn=KNN.predict(x_test)\n",
    "y_predict_knn"
   ]
  },
  {
   "cell_type": "code",
   "execution_count": 50,
   "metadata": {},
   "outputs": [
    {
     "name": "stdout",
     "output_type": "stream",
     "text": [
      "[[ 3  3]\n",
      " [ 3 22]]\n"
     ]
    }
   ],
   "source": [
    "cm_knn=confusion_matrix(y_test,y_predict_knn)\n",
    "print(cm_knn)"
   ]
  },
  {
   "cell_type": "code",
   "execution_count": 51,
   "metadata": {
    "scrolled": true
   },
   "outputs": [
    {
     "name": "stdout",
     "output_type": "stream",
     "text": [
      "              precision    recall  f1-score   support\n",
      "\n",
      "           0       0.50      0.50      0.50         6\n",
      "           1       0.88      0.88      0.88        25\n",
      "\n",
      "    accuracy                           0.81        31\n",
      "   macro avg       0.69      0.69      0.69        31\n",
      "weighted avg       0.81      0.81      0.81        31\n",
      "\n"
     ]
    }
   ],
   "source": [
    "print(classification_report(y_test,y_predict_knn))"
   ]
  },
  {
   "cell_type": "markdown",
   "metadata": {},
   "source": [
    "### Support Vector Classifier"
   ]
  },
  {
   "cell_type": "code",
   "execution_count": 52,
   "metadata": {},
   "outputs": [],
   "source": [
    "from sklearn.svm import SVC\n",
    "svc=SVC()"
   ]
  },
  {
   "cell_type": "code",
   "execution_count": 53,
   "metadata": {},
   "outputs": [],
   "source": [
    "params_svm={'kernel':['linear','poly','rbf','sigmoid'],'C':list(np.arange(0.1,0.6)),'gamma':[0.0001,0.001,0.01,0.1,1,10,100,0.02,0.03,0.04,0.05],'degree':[1,2,3,4,5,6]}"
   ]
  },
  {
   "cell_type": "code",
   "execution_count": 54,
   "metadata": {},
   "outputs": [
    {
     "data": {
      "text/plain": [
       "RandomizedSearchCV(cv=10, estimator=SVC(),\n",
       "                   param_distributions={'C': [0.1],\n",
       "                                        'degree': [1, 2, 3, 4, 5, 6],\n",
       "                                        'gamma': [0.0001, 0.001, 0.01, 0.1, 1,\n",
       "                                                  10, 100, 0.02, 0.03, 0.04,\n",
       "                                                  0.05],\n",
       "                                        'kernel': ['linear', 'poly', 'rbf',\n",
       "                                                   'sigmoid']},\n",
       "                   random_state=7)"
      ]
     },
     "execution_count": 54,
     "metadata": {},
     "output_type": "execute_result"
    }
   ],
   "source": [
    "svm_cv=RandomizedSearchCV(svc,params_svm,cv=10,random_state=7)\n",
    "svm_cv.fit(x_train,y_train)"
   ]
  },
  {
   "cell_type": "code",
   "execution_count": 55,
   "metadata": {
    "scrolled": false
   },
   "outputs": [
    {
     "name": "stdout",
     "output_type": "stream",
     "text": [
      "0.8685897435897436\n",
      "{'kernel': 'linear', 'gamma': 1, 'degree': 2, 'C': 0.1}\n"
     ]
    }
   ],
   "source": [
    "print(svm_cv.best_score_)\n",
    "print(svm_cv.best_params_)"
   ]
  },
  {
   "cell_type": "code",
   "execution_count": 56,
   "metadata": {},
   "outputs": [],
   "source": [
    "SVM=SVC(kernel='linear',gamma=1,degree=2,C=0.1)\n",
    "start_svm=time()\n",
    "SVM.fit(x_train,y_train)\n",
    "end_svm=time()\n",
    "time_svm=end_svm-start_svm"
   ]
  },
  {
   "cell_type": "code",
   "execution_count": 57,
   "metadata": {},
   "outputs": [
    {
     "name": "stdout",
     "output_type": "stream",
     "text": [
      "Training score:  0.9105691056910569\n",
      "Testing score:  0.8387096774193549\n",
      "Training time:  0.00398707389831543\n"
     ]
    }
   ],
   "source": [
    "SVM_train_time = SVM.score(x_train,y_train)\n",
    "SVM_test_time = SVM.score(x_test,y_test)\n",
    "print('Training score: ',SVM.score(x_train,y_train))\n",
    "print('Testing score: ',SVM.score(x_test,y_test))\n",
    "print('Training time: ',time_svm)"
   ]
  },
  {
   "cell_type": "code",
   "execution_count": 58,
   "metadata": {},
   "outputs": [
    {
     "data": {
      "text/plain": [
       "array([1, 1, 1, 1, 1, 1, 1, 1, 1, 1, 0, 1, 1, 1, 0, 1, 1, 1, 1, 1, 1, 1,\n",
       "       0, 0, 1, 1, 1, 0, 1, 1, 1], dtype=int64)"
      ]
     },
     "execution_count": 58,
     "metadata": {},
     "output_type": "execute_result"
    }
   ],
   "source": [
    "y_predict_svm=SVM.predict(x_test)\n",
    "y_predict_svm"
   ]
  },
  {
   "cell_type": "code",
   "execution_count": 59,
   "metadata": {
    "scrolled": true
   },
   "outputs": [
    {
     "name": "stdout",
     "output_type": "stream",
     "text": [
      "[[ 3  3]\n",
      " [ 2 23]]\n"
     ]
    }
   ],
   "source": [
    "cm_svm=confusion_matrix(y_test,y_predict_svm)\n",
    "print(cm_svm)"
   ]
  },
  {
   "cell_type": "code",
   "execution_count": 60,
   "metadata": {},
   "outputs": [
    {
     "name": "stdout",
     "output_type": "stream",
     "text": [
      "              precision    recall  f1-score   support\n",
      "\n",
      "           0       0.60      0.50      0.55         6\n",
      "           1       0.88      0.92      0.90        25\n",
      "\n",
      "    accuracy                           0.84        31\n",
      "   macro avg       0.74      0.71      0.72        31\n",
      "weighted avg       0.83      0.84      0.83        31\n",
      "\n"
     ]
    }
   ],
   "source": [
    "print(classification_report(y_test,y_predict_svm))"
   ]
  },
  {
   "cell_type": "markdown",
   "metadata": {},
   "source": [
    "### Gaussian Naive Bayes"
   ]
  },
  {
   "cell_type": "code",
   "execution_count": 61,
   "metadata": {},
   "outputs": [],
   "source": [
    "from sklearn.naive_bayes import GaussianNB\n",
    "gnb=GaussianNB()"
   ]
  },
  {
   "cell_type": "code",
   "execution_count": 62,
   "metadata": {},
   "outputs": [],
   "source": [
    "start_gnb=time()\n",
    "gnb.fit(x_train,y_train)\n",
    "end_gnb=time()\n",
    "time_gnb=end_gnb-start_gnb"
   ]
  },
  {
   "cell_type": "code",
   "execution_count": 63,
   "metadata": {},
   "outputs": [
    {
     "name": "stdout",
     "output_type": "stream",
     "text": [
      "Training score:  0.6585365853658537\n",
      "Testing score:  0.5483870967741935\n",
      "Training time:  0.0029926300048828125\n"
     ]
    }
   ],
   "source": [
    "gnb_train_time = gnb.score(x_train,y_train)\n",
    "gnb_test_time = gnb.score(x_test,y_test)\n",
    "print('Training score: ',gnb.score(x_train,y_train))\n",
    "print('Testing score: ',gnb.score(x_test,y_test))\n",
    "print('Training time: ',time_gnb)"
   ]
  },
  {
   "cell_type": "code",
   "execution_count": 64,
   "metadata": {},
   "outputs": [
    {
     "data": {
      "text/plain": [
       "array([1, 1, 0, 1, 0, 0, 0, 1, 1, 1, 0, 0, 1, 0, 0, 1, 0, 1, 0, 1, 1, 1,\n",
       "       0, 0, 1, 0, 1, 0, 0, 1, 0], dtype=int64)"
      ]
     },
     "execution_count": 64,
     "metadata": {},
     "output_type": "execute_result"
    }
   ],
   "source": [
    "y_predict_gnb=gnb.predict(x_test)\n",
    "y_predict_gnb"
   ]
  },
  {
   "cell_type": "code",
   "execution_count": 65,
   "metadata": {},
   "outputs": [
    {
     "name": "stdout",
     "output_type": "stream",
     "text": [
      "[[ 4  2]\n",
      " [12 13]]\n"
     ]
    }
   ],
   "source": [
    "cm_gnb=confusion_matrix(y_test,y_predict_gnb)\n",
    "print(cm_gnb)"
   ]
  },
  {
   "cell_type": "code",
   "execution_count": 66,
   "metadata": {
    "scrolled": true
   },
   "outputs": [
    {
     "name": "stdout",
     "output_type": "stream",
     "text": [
      "              precision    recall  f1-score   support\n",
      "\n",
      "           0       0.25      0.67      0.36         6\n",
      "           1       0.87      0.52      0.65        25\n",
      "\n",
      "    accuracy                           0.55        31\n",
      "   macro avg       0.56      0.59      0.51        31\n",
      "weighted avg       0.75      0.55      0.59        31\n",
      "\n"
     ]
    }
   ],
   "source": [
    "print(classification_report(y_test,y_predict_gnb))"
   ]
  },
  {
   "cell_type": "markdown",
   "metadata": {},
   "source": [
    "## Compairing Training Accuracy of Different Models"
   ]
  },
  {
   "cell_type": "code",
   "execution_count": 67,
   "metadata": {},
   "outputs": [
    {
     "data": {
      "text/plain": [
       "Text(0.5, 1.0, 'Model Training Accuracy')"
      ]
     },
     "execution_count": 67,
     "metadata": {},
     "output_type": "execute_result"
    },
    {
     "data": {
      "image/png": "[encoded data removed]",
      "text/plain": [
       "<Figure size 720x504 with 1 Axes>"
      ]
     },
     "metadata": {
      "needs_background": "light"
     },
     "output_type": "display_data"
    }
   ],
   "source": [
    "model_training_time = pd.Series(data=[knn_train_time,log_train_time,dt_train_time,rf_train_time,SVM_train_time,gnb_train_time],\n",
    "                          index=['KNN','Logistic','DecisionTreeClassifier','RandomForestClassifier','Support Vector','Naive Bayes'])\n",
    "fig= plt.figure(figsize=(10,7))\n",
    "model_training_time.sort_values().plot.barh()\n",
    "plt.title('Model Training Accuracy')"
   ]
  },
  {
   "cell_type": "markdown",
   "metadata": {},
   "source": [
    "## Compairing Testing Accuracy of Different Models\n"
   ]
  },
  {
   "cell_type": "code",
   "execution_count": 68,
   "metadata": {},
   "outputs": [
    {
     "data": {
      "text/plain": [
       "Text(0.5, 1.0, 'Model Testing Accuracy')"
      ]
     },
     "execution_count": 68,
     "metadata": {},
     "output_type": "execute_result"
    },
    {
     "data": {
      "image/png": "[encoded data removed]",
      "text/plain": [
       "<Figure size 720x504 with 1 Axes>"
      ]
     },
     "metadata": {
      "needs_background": "light"
     },
     "output_type": "display_data"
    }
   ],
   "source": [
    "model_testing_time = pd.Series(data=[knn_test_time,log_test_time,dt_test_time,rf_test_time,SVM_test_time,gnb_test_time],\n",
    "                          index=['KNN','Logistic','DecisionTreeClassifier','RandomForestClassifier','Support Vector','Naive Bayes'])\n",
    "fig= plt.figure(figsize=(10,7))\n",
    "model_testing_time.sort_values().plot.barh()\n",
    "plt.title('Model Testing Accuracy')"
   ]
  },
  {
   "cell_type": "markdown",
   "metadata": {},
   "source": [
    "## Comparing Confusion Matrix of different Classifiers"
   ]
  },
  {
   "cell_type": "code",
   "execution_count": 69,
   "metadata": {},
   "outputs": [
    {
     "data": {
      "image/png": "[encoded data removed]",
      "text/plain": [
       "<Figure size 1440x720 with 6 Axes>"
      ]
     },
     "metadata": {
      "needs_background": "light"
     },
     "output_type": "display_data"
    }
   ],
   "source": [
    "knn_con = confusion_matrix(y_test, y_predict_knn)\n",
    "log_con = confusion_matrix(y_test, y_predict_reg)\n",
    "nb_con = confusion_matrix(y_test, y_predict_gnb)\n",
    "dtc_con = confusion_matrix(y_test, y_predict_dt)\n",
    "rf_con = confusion_matrix(y_test, y_predict_rf)\n",
    "svm_con = confusion_matrix(y_test, y_predict_svm)\n",
    "\n",
    "\n",
    "plt.figure(figsize=(20,10))\n",
    "plt.subplot(2,4,1)\n",
    "plt.title(\"KNeighborsClassifier\")\n",
    "sns.heatmap(knn_con,annot=True,cmap=\"Blues\",fmt=\"d\",cbar=False)\n",
    "plt.subplot(2,4,2)\n",
    "plt.title(\"LogisticRegression\")\n",
    "sns.heatmap(log_con,annot=True,cmap=\"Oranges\",fmt=\"d\",cbar=False)\n",
    "plt.subplot(2,4,3)\n",
    "plt.title(\"GaussianNB\")\n",
    "sns.heatmap(nb_con,annot=True,cmap=\"Greens\",fmt=\"d\",cbar=False)\n",
    "plt.subplot(2,4,4)\n",
    "plt.title(\"DecisionTreeClassifier\")\n",
    "sns.heatmap(dtc_con,annot=True,cmap=\"Purples\",fmt=\"d\",cbar=False)\n",
    "plt.subplot(2,4,5)\n",
    "plt.title(\"RandomForestClassifier\")\n",
    "sns.heatmap(rf_con,annot=True,cmap=\"Purples\",fmt=\"d\",cbar=False)\n",
    "plt.subplot(2,4,6)\n",
    "plt.title(\"Support Vector Classifier\")\n",
    "sns.heatmap(svm_con,annot=True,cmap=\"Greens\",fmt=\"d\",cbar=False)\n",
    "plt.show()"
   ]
  },
  {
   "cell_type": "markdown",
   "metadata": {},
   "source": [
    "### Comparing Training times of different Classifiers"
   ]
  },
  {
   "cell_type": "code",
   "execution_count": 70,
   "metadata": {},
   "outputs": [],
   "source": [
    "training_times=[time_dt,time_rf,time_knn,time_gnb,time_svm,time_reg]\n",
    "algo=['Decision Tree Classifier','Random Forest Classifier','KNN','Gaussian Naive Bayes','Support Vector Classifier','Logistic Regression']\n"
   ]
  },
  {
   "cell_type": "code",
   "execution_count": 71,
   "metadata": {
    "scrolled": true
   },
   "outputs": [
    {
     "data": {
      "image/png": "[encoded data removed]",
      "text/plain": [
       "<Figure size 1080x360 with 1 Axes>"
      ]
     },
     "metadata": {
      "needs_background": "light"
     },
     "output_type": "display_data"
    }
   ],
   "source": [
    "plt.figure(figsize=(15,5))\n",
    "sns.barplot(y=algo,x=training_times,palette='ocean')\n",
    "plt.xlabel('Training Time')\n",
    "plt.grid()\n",
    "plt.show()"
   ]
  },
  {
   "cell_type": "markdown",
   "metadata": {},
   "source": [
    "### Bagging Classifier"
   ]
  },
  {
   "cell_type": "code",
   "execution_count": 72,
   "metadata": {},
   "outputs": [],
   "source": [
    "from sklearn.ensemble import BaggingClassifier"
   ]
  },
  {
   "cell_type": "code",
   "execution_count": 73,
   "metadata": {
    "scrolled": true
   },
   "outputs": [
    {
     "data": {
      "text/html": [
       "<div>\n",
       "<style scoped>\n",
       "    .dataframe tbody tr th:only-of-type {\n",
       "        vertical-align: middle;\n",
       "    }\n",
       "\n",
       "    .dataframe tbody tr th {\n",
       "        vertical-align: top;\n",
       "    }\n",
       "\n",
       "    .dataframe thead th {\n",
       "        text-align: right;\n",
       "    }\n",
       "</style>\n",
       "<table border=\"1\" class=\"dataframe\">\n",
       "  <thead>\n",
       "    <tr style=\"text-align: right;\">\n",
       "      <th></th>\n",
       "      <th>Base Estimator</th>\n",
       "      <th>Training Score</th>\n",
       "      <th>Testing Score</th>\n",
       "      <th>Time Taken</th>\n",
       "      <th>Case Of</th>\n",
       "      <th>Diff(Training-Testing)</th>\n",
       "    </tr>\n",
       "  </thead>\n",
       "  <tbody>\n",
       "    <tr>\n",
       "      <th>0</th>\n",
       "      <td>Decision Tree</td>\n",
       "      <td>0.926829</td>\n",
       "      <td>0.838710</td>\n",
       "      <td>0.029882</td>\n",
       "      <td>Overfitting</td>\n",
       "      <td>0.088120</td>\n",
       "    </tr>\n",
       "    <tr>\n",
       "      <th>1</th>\n",
       "      <td>Random Forest</td>\n",
       "      <td>0.959350</td>\n",
       "      <td>0.741935</td>\n",
       "      <td>3.873640</td>\n",
       "      <td>Overfitting</td>\n",
       "      <td>0.217414</td>\n",
       "    </tr>\n",
       "    <tr>\n",
       "      <th>2</th>\n",
       "      <td>Logistic Regression</td>\n",
       "      <td>0.861789</td>\n",
       "      <td>0.838710</td>\n",
       "      <td>0.269279</td>\n",
       "      <td>Overfitting</td>\n",
       "      <td>0.023079</td>\n",
       "    </tr>\n",
       "    <tr>\n",
       "      <th>3</th>\n",
       "      <td>KNN</td>\n",
       "      <td>0.821138</td>\n",
       "      <td>0.806452</td>\n",
       "      <td>0.034906</td>\n",
       "      <td>Overfitting</td>\n",
       "      <td>0.014687</td>\n",
       "    </tr>\n",
       "    <tr>\n",
       "      <th>4</th>\n",
       "      <td>Support Vector Classifier</td>\n",
       "      <td>0.894309</td>\n",
       "      <td>0.774194</td>\n",
       "      <td>0.023998</td>\n",
       "      <td>Overfitting</td>\n",
       "      <td>0.120115</td>\n",
       "    </tr>\n",
       "    <tr>\n",
       "      <th>5</th>\n",
       "      <td>Gaussian Naive Bayes Classifier</td>\n",
       "      <td>0.674797</td>\n",
       "      <td>0.580645</td>\n",
       "      <td>0.017951</td>\n",
       "      <td>Overfitting</td>\n",
       "      <td>0.094152</td>\n",
       "    </tr>\n",
       "  </tbody>\n",
       "</table>\n",
       "</div>"
      ],
      "text/plain": [
       "                    Base Estimator  Training Score  Testing Score  Time Taken  \\\n",
       "0                    Decision Tree        0.926829       0.838710    0.029882   \n",
       "1                    Random Forest        0.959350       0.741935    3.873640   \n",
       "2              Logistic Regression        0.861789       0.838710    0.269279   \n",
       "3                              KNN        0.821138       0.806452    0.034906   \n",
       "4        Support Vector Classifier        0.894309       0.774194    0.023998   \n",
       "5  Gaussian Naive Bayes Classifier        0.674797       0.580645    0.017951   \n",
       "\n",
       "       Case Of  Diff(Training-Testing)  \n",
       "0  Overfitting                0.088120  \n",
       "1  Overfitting                0.217414  \n",
       "2  Overfitting                0.023079  \n",
       "3  Overfitting                0.014687  \n",
       "4  Overfitting                0.120115  \n",
       "5  Overfitting                0.094152  "
      ]
     },
     "execution_count": 73,
     "metadata": {},
     "output_type": "execute_result"
    }
   ],
   "source": [
    "df_bagging=DataFrame(columns=['Base Estimator','Training Score','Testing Score','Time Taken','Case Of','Diff(Training-Testing)'])\n",
    "to_bag=[decision_tree,random_forest,log_reg,KNN,SVM,gnb]\n",
    "algo_name=['Decision Tree','Random Forest','Logistic Regression','KNN','Support Vector Classifier','Gaussian Naive Bayes Classifier']\n",
    "for i in range(len(to_bag)):\n",
    "    case_of=''\n",
    "    difference=0\n",
    "    bag=BaggingClassifier(to_bag[i],bootstrap=True,random_state=0)\n",
    "    start=time()\n",
    "    bag.fit(x_train,y_train)\n",
    "    end=time()\n",
    "    time_taken=end-start\n",
    "    if bag.score(x_train,y_train)>bag.score(x_test,y_test):\n",
    "        case_of='Overfitting'\n",
    "    else:\n",
    "        case_of='Underfitting'\n",
    "    difference=bag.score(x_train,y_train)-bag.score(x_test,y_test)\n",
    "    df_bagging.loc[i]=[algo_name[i],bag.score(x_train,y_train),bag.score(x_test,y_test),time_taken,case_of,difference]\n",
    "df_bagging"
   ]
  },
  {
   "cell_type": "markdown",
   "metadata": {},
   "source": [
    "### Adaboost Classifier"
   ]
  },
  {
   "cell_type": "code",
   "execution_count": 74,
   "metadata": {},
   "outputs": [],
   "source": [
    "from sklearn.ensemble import AdaBoostClassifier"
   ]
  },
  {
   "cell_type": "code",
   "execution_count": 75,
   "metadata": {},
   "outputs": [
    {
     "data": {
      "text/html": [
       "<div>\n",
       "<style scoped>\n",
       "    .dataframe tbody tr th:only-of-type {\n",
       "        vertical-align: middle;\n",
       "    }\n",
       "\n",
       "    .dataframe tbody tr th {\n",
       "        vertical-align: top;\n",
       "    }\n",
       "\n",
       "    .dataframe thead th {\n",
       "        text-align: right;\n",
       "    }\n",
       "</style>\n",
       "<table border=\"1\" class=\"dataframe\">\n",
       "  <thead>\n",
       "    <tr style=\"text-align: right;\">\n",
       "      <th></th>\n",
       "      <th>Base Estimator</th>\n",
       "      <th>Training Score</th>\n",
       "      <th>Testing Score</th>\n",
       "      <th>Time Taken</th>\n",
       "      <th>Case Of</th>\n",
       "      <th>Diff(Training-Testing)</th>\n",
       "    </tr>\n",
       "  </thead>\n",
       "  <tbody>\n",
       "    <tr>\n",
       "      <th>0</th>\n",
       "      <td>Decision Tree</td>\n",
       "      <td>1.000000</td>\n",
       "      <td>0.838710</td>\n",
       "      <td>0.145613</td>\n",
       "      <td>Overfitting</td>\n",
       "      <td>0.161290</td>\n",
       "    </tr>\n",
       "    <tr>\n",
       "      <th>1</th>\n",
       "      <td>Random Forest</td>\n",
       "      <td>1.000000</td>\n",
       "      <td>0.774194</td>\n",
       "      <td>1.156888</td>\n",
       "      <td>Overfitting</td>\n",
       "      <td>0.225806</td>\n",
       "    </tr>\n",
       "    <tr>\n",
       "      <th>2</th>\n",
       "      <td>Logistic Regression</td>\n",
       "      <td>0.869919</td>\n",
       "      <td>0.774194</td>\n",
       "      <td>0.109715</td>\n",
       "      <td>Overfitting</td>\n",
       "      <td>0.095725</td>\n",
       "    </tr>\n",
       "    <tr>\n",
       "      <th>3</th>\n",
       "      <td>Support Vector Classifier</td>\n",
       "      <td>0.796748</td>\n",
       "      <td>0.774194</td>\n",
       "      <td>0.046832</td>\n",
       "      <td>Overfitting</td>\n",
       "      <td>0.022554</td>\n",
       "    </tr>\n",
       "    <tr>\n",
       "      <th>4</th>\n",
       "      <td>Gaussian Naive Bayes Classifier</td>\n",
       "      <td>0.658537</td>\n",
       "      <td>0.548387</td>\n",
       "      <td>0.003990</td>\n",
       "      <td>Overfitting</td>\n",
       "      <td>0.110149</td>\n",
       "    </tr>\n",
       "  </tbody>\n",
       "</table>\n",
       "</div>"
      ],
      "text/plain": [
       "                    Base Estimator  Training Score  Testing Score  Time Taken  \\\n",
       "0                    Decision Tree        1.000000       0.838710    0.145613   \n",
       "1                    Random Forest        1.000000       0.774194    1.156888   \n",
       "2              Logistic Regression        0.869919       0.774194    0.109715   \n",
       "3        Support Vector Classifier        0.796748       0.774194    0.046832   \n",
       "4  Gaussian Naive Bayes Classifier        0.658537       0.548387    0.003990   \n",
       "\n",
       "       Case Of  Diff(Training-Testing)  \n",
       "0  Overfitting                0.161290  \n",
       "1  Overfitting                0.225806  \n",
       "2  Overfitting                0.095725  \n",
       "3  Overfitting                0.022554  \n",
       "4  Overfitting                0.110149  "
      ]
     },
     "execution_count": 75,
     "metadata": {},
     "output_type": "execute_result"
    }
   ],
   "source": [
    "df_adaboost=DataFrame(columns=['Base Estimator','Training Score','Testing Score','Time Taken','Case Of','Diff(Training-Testing)'])\n",
    "to_bag=[decision_tree,random_forest,log_reg,KNN,SVM,gnb]\n",
    "to_boost=[decision_tree,random_forest,log_reg,SVM,gnb]\n",
    "algo_name=['Decision Tree','Random Forest','Logistic Regression','Support Vector Classifier','Gaussian Naive Bayes Classifier']\n",
    "for i in range(len(to_boost)):\n",
    "    boost=AdaBoostClassifier(to_boost[i],n_estimators=100,algorithm='SAMME',random_state=7)\n",
    "    start=time()\n",
    "    boost.fit(x_train,y_train)\n",
    "    end=time()\n",
    "    time_taken=end-start\n",
    "    if boost.score(x_train,y_train)>boost.score(x_test,y_test):\n",
    "        case_of='Overfitting'\n",
    "    else:\n",
    "        case_of='Underfitting'\n",
    "    difference=boost.score(x_train,y_train)-boost.score(x_test,y_test)\n",
    "    df_adaboost.loc[i]=[algo_name[i],boost.score(x_train,y_train),boost.score(x_test,y_test),time_taken,case_of,difference]\n",
    "df_adaboost"
   ]
  },
  {
   "cell_type": "markdown",
   "metadata": {},
   "source": [
    "### Gradient Boosting Classifier"
   ]
  },
  {
   "cell_type": "code",
   "execution_count": 76,
   "metadata": {
    "scrolled": false
   },
   "outputs": [
    {
     "data": {
      "text/plain": [
       "RandomizedSearchCV(cv=10, estimator=GradientBoostingClassifier(),\n",
       "                   param_distributions={'criterion': ['friedman_mse', 'mse',\n",
       "                                                      'mae'],\n",
       "                                        'learning_rate': [0.1, 0.2, 0.3, 0.4,\n",
       "                                                          0.5, 1, 2, 0.01, 0.02,\n",
       "                                                          0.05],\n",
       "                                        'max_depth': [2, 3, 4, 5, 6],\n",
       "                                        'min_samples_split': [1, 2, 3, 4, 5, 6,\n",
       "                                                              7, 8, 9],\n",
       "                                        'n_estimators': [100, 150, 200, 300]},\n",
       "                   random_state=7)"
      ]
     },
     "execution_count": 76,
     "metadata": {},
     "output_type": "execute_result"
    }
   ],
   "source": [
    "from sklearn.ensemble import GradientBoostingClassifier\n",
    "gb=GradientBoostingClassifier()\n",
    "params_gb={'learning_rate':[0.1,0.2,0.3,0.4,0.5,1,2,0.01,0.02,0.05],'n_estimators':[100,150,200,300],\n",
    "           'max_depth':[2,3,4,5,6],'min_samples_split':list(np.arange(1,10)),'criterion':['friedman_mse','mse','mae']}\n",
    "GB_cv=RandomizedSearchCV(gb,params_gb,cv=10,random_state=7)\n",
    "GB_cv.fit(x_train,y_train)"
   ]
  },
  {
   "cell_type": "code",
   "execution_count": 77,
   "metadata": {},
   "outputs": [
    {
     "name": "stdout",
     "output_type": "stream",
     "text": [
      "Best score:  0.9102564102564102\n",
      "Best parameters:  {'n_estimators': 150, 'min_samples_split': 9, 'max_depth': 6, 'learning_rate': 0.3, 'criterion': 'friedman_mse'}\n"
     ]
    }
   ],
   "source": [
    "print('Best score: ',GB_cv.best_score_)\n",
    "print('Best parameters: ',GB_cv.best_params_)"
   ]
  },
  {
   "cell_type": "code",
   "execution_count": 78,
   "metadata": {},
   "outputs": [],
   "source": [
    "GB=GradientBoostingClassifier(n_estimators=150,max_depth=2,learning_rate=0.5,min_samples_split=8,criterion='mse')"
   ]
  },
  {
   "cell_type": "code",
   "execution_count": 79,
   "metadata": {},
   "outputs": [
    {
     "data": {
      "text/plain": [
       "0.8064516129032258"
      ]
     },
     "execution_count": 79,
     "metadata": {},
     "output_type": "execute_result"
    }
   ],
   "source": [
    "GB.fit(x_train,y_train)\n",
    "GB.score(x_test,y_test)"
   ]
  },
  {
   "cell_type": "code",
   "execution_count": 80,
   "metadata": {},
   "outputs": [
    {
     "data": {
      "text/html": [
       "<div>\n",
       "<style scoped>\n",
       "    .dataframe tbody tr th:only-of-type {\n",
       "        vertical-align: middle;\n",
       "    }\n",
       "\n",
       "    .dataframe tbody tr th {\n",
       "        vertical-align: top;\n",
       "    }\n",
       "\n",
       "    .dataframe thead th {\n",
       "        text-align: right;\n",
       "    }\n",
       "</style>\n",
       "<table border=\"1\" class=\"dataframe\">\n",
       "  <thead>\n",
       "    <tr style=\"text-align: right;\">\n",
       "      <th></th>\n",
       "      <th>Base Estimator</th>\n",
       "      <th>Training Score</th>\n",
       "      <th>Testing Score</th>\n",
       "      <th>Time Taken</th>\n",
       "      <th>Case Of</th>\n",
       "      <th>Diff(Training-Testing)</th>\n",
       "    </tr>\n",
       "  </thead>\n",
       "  <tbody>\n",
       "    <tr>\n",
       "      <th>0</th>\n",
       "      <td>Decision Tree</td>\n",
       "      <td>1.0</td>\n",
       "      <td>0.806452</td>\n",
       "      <td>0.190489</td>\n",
       "      <td>Overfitting</td>\n",
       "      <td>0.110149</td>\n",
       "    </tr>\n",
       "    <tr>\n",
       "      <th>1</th>\n",
       "      <td>Random Forest</td>\n",
       "      <td>1.0</td>\n",
       "      <td>0.806452</td>\n",
       "      <td>0.154648</td>\n",
       "      <td>Overfitting</td>\n",
       "      <td>0.110149</td>\n",
       "    </tr>\n",
       "    <tr>\n",
       "      <th>2</th>\n",
       "      <td>Logistic Regression</td>\n",
       "      <td>1.0</td>\n",
       "      <td>0.806452</td>\n",
       "      <td>0.095808</td>\n",
       "      <td>Overfitting</td>\n",
       "      <td>0.110149</td>\n",
       "    </tr>\n",
       "    <tr>\n",
       "      <th>3</th>\n",
       "      <td>Support Vector Classifier</td>\n",
       "      <td>1.0</td>\n",
       "      <td>0.806452</td>\n",
       "      <td>0.097677</td>\n",
       "      <td>Overfitting</td>\n",
       "      <td>0.110149</td>\n",
       "    </tr>\n",
       "    <tr>\n",
       "      <th>4</th>\n",
       "      <td>Gaussian Naive Bayes Classifier</td>\n",
       "      <td>1.0</td>\n",
       "      <td>0.806452</td>\n",
       "      <td>0.183505</td>\n",
       "      <td>Overfitting</td>\n",
       "      <td>0.110149</td>\n",
       "    </tr>\n",
       "  </tbody>\n",
       "</table>\n",
       "</div>"
      ],
      "text/plain": [
       "                    Base Estimator  Training Score  Testing Score  Time Taken  \\\n",
       "0                    Decision Tree             1.0       0.806452    0.190489   \n",
       "1                    Random Forest             1.0       0.806452    0.154648   \n",
       "2              Logistic Regression             1.0       0.806452    0.095808   \n",
       "3        Support Vector Classifier             1.0       0.806452    0.097677   \n",
       "4  Gaussian Naive Bayes Classifier             1.0       0.806452    0.183505   \n",
       "\n",
       "       Case Of  Diff(Training-Testing)  \n",
       "0  Overfitting                0.110149  \n",
       "1  Overfitting                0.110149  \n",
       "2  Overfitting                0.110149  \n",
       "3  Overfitting                0.110149  \n",
       "4  Overfitting                0.110149  "
      ]
     },
     "execution_count": 80,
     "metadata": {},
     "output_type": "execute_result"
    }
   ],
   "source": [
    "df_gboost=DataFrame(columns=['Base Estimator','Training Score','Testing Score','Time Taken','Case Of','Diff(Training-Testing)'])\n",
    "to_boost=[decision_tree,random_forest,log_reg,SVM,gnb]\n",
    "algo_name=['Decision Tree','Random Forest','Logistic Regression','Support Vector Classifier','Gaussian Naive Bayes Classifier']\n",
    "for i in range(len(to_boost)):\n",
    "    gboost=GradientBoostingClassifier(n_estimators=200,max_depth=2,learning_rate=0.2,min_samples_split=8,criterion='mse')\n",
    "    start=time()\n",
    "    gboost.fit(x_train,y_train)\n",
    "    end=time()\n",
    "    time_taken=end-start\n",
    "    if gboost.score(x_train,y_train)>boost.score(x_test,y_test):\n",
    "        case_of='Overfitting'\n",
    "    else:\n",
    "        case_of='Underfitting'\n",
    "    difference=boost.score(x_train,y_train)-boost.score(x_test,y_test)\n",
    "    df_gboost.loc[i]=[algo_name[i],gboost.score(x_train,y_train),gboost.score(x_test,y_test),time_taken,case_of,difference]\n",
    "df_gboost"
   ]
  },
  {
   "cell_type": "markdown",
   "metadata": {},
   "source": [
    "### USING SMOTE"
   ]
  },
  {
   "cell_type": "code",
   "execution_count": 81,
   "metadata": {},
   "outputs": [
    {
     "ename": "ModuleNotFoundError",
     "evalue": "No module named 'imblearn'",
     "output_type": "error",
     "traceback": [
      "\u001b[1;31m---------------------------------------------------------------------------\u001b[0m",
      "\u001b[1;31mModuleNotFoundError\u001b[0m                       Traceback (most recent call last)",
      "\u001b[1;32m<ipython-input-81-d4d919bdea6d>\u001b[0m in \u001b[0;36m<module>\u001b[1;34m\u001b[0m\n\u001b[1;32m----> 1\u001b[1;33m \u001b[1;32mfrom\u001b[0m \u001b[0mimblearn\u001b[0m\u001b[1;33m.\u001b[0m\u001b[0mover_sampling\u001b[0m \u001b[1;32mimport\u001b[0m \u001b[0mSMOTE\u001b[0m\u001b[1;33m\u001b[0m\u001b[1;33m\u001b[0m\u001b[0m\n\u001b[0m\u001b[0;32m      2\u001b[0m \u001b[0msm\u001b[0m\u001b[1;33m=\u001b[0m\u001b[0mSMOTE\u001b[0m\u001b[1;33m(\u001b[0m\u001b[0msampling_strategy\u001b[0m\u001b[1;33m=\u001b[0m\u001b[1;36m1\u001b[0m\u001b[1;33m,\u001b[0m\u001b[0mk_neighbors\u001b[0m\u001b[1;33m=\u001b[0m\u001b[1;36m5\u001b[0m\u001b[1;33m,\u001b[0m\u001b[0mrandom_state\u001b[0m\u001b[1;33m=\u001b[0m\u001b[1;36m0\u001b[0m\u001b[1;33m)\u001b[0m\u001b[1;33m\u001b[0m\u001b[1;33m\u001b[0m\u001b[0m\n\u001b[0;32m      3\u001b[0m \u001b[0mx_train_res\u001b[0m\u001b[1;33m,\u001b[0m\u001b[0my_train_res\u001b[0m\u001b[1;33m=\u001b[0m\u001b[0msm\u001b[0m\u001b[1;33m.\u001b[0m\u001b[0mfit_sample\u001b[0m\u001b[1;33m(\u001b[0m\u001b[0mx_train\u001b[0m\u001b[1;33m,\u001b[0m\u001b[0my_train\u001b[0m\u001b[1;33m)\u001b[0m\u001b[1;33m\u001b[0m\u001b[1;33m\u001b[0m\u001b[0m\n",
      "\u001b[1;31mModuleNotFoundError\u001b[0m: No module named 'imblearn'"
     ]
    }
   ],
   "source": [
    "from imblearn.over_sampling import SMOTE\n",
    "sm=SMOTE(sampling_strategy=1,k_neighbors=5,random_state=0)\n",
    "x_train_res,y_train_res=sm.fit_sample(x_train,y_train)"
   ]
  },
  {
   "cell_type": "code",
   "execution_count": null,
   "metadata": {},
   "outputs": [],
   "source": [
    "print(x_train_res.shape)\n",
    "print(y_train_res.shape)"
   ]
  },
  {
   "cell_type": "markdown",
   "metadata": {},
   "source": [
    "### Logistic Regression"
   ]
  },
  {
   "cell_type": "code",
   "execution_count": null,
   "metadata": {},
   "outputs": [],
   "source": [
    "params_reg= {'C': [0.001, 0.01, 0.1, 1, 10, 100, 1000] ,'max_iter':[100,150,200,250,300]}"
   ]
  },
  {
   "cell_type": "code",
   "execution_count": null,
   "metadata": {},
   "outputs": [],
   "source": [
    "reg_cv1=RandomizedSearchCV(reg,params_reg,cv=10,random_state=0)\n",
    "reg_cv1.fit(x_train_res,y_train_res)\n",
    "print(reg_cv1.best_score_)\n",
    "print(reg_cv1.best_params_)"
   ]
  },
  {
   "cell_type": "code",
   "execution_count": null,
   "metadata": {},
   "outputs": [],
   "source": [
    "LR=LogisticRegression(max_iter=100,C=10,random_state=0)\n",
    "LR.fit(x_train_res,y_train_res)\n",
    "print('Training score: ',LR.score(x_train_res,y_train_res))\n",
    "print('Testing score: ',LR.score(x_test,y_test))"
   ]
  },
  {
   "cell_type": "code",
   "execution_count": null,
   "metadata": {},
   "outputs": [],
   "source": [
    "y_predict_LR=LR.predict(x_test)\n",
    "print('CONFUSION MATRIX:  ')\n",
    "print(confusion_matrix(y_test,y_predict_LR))\n",
    "print()\n",
    "print('CLASSIFICATION REPORT: ')\n",
    "print()      \n",
    "print(classification_report(y_test,y_predict_LR))"
   ]
  },
  {
   "cell_type": "markdown",
   "metadata": {},
   "source": [
    "### Decision Tree Classifier"
   ]
  },
  {
   "cell_type": "code",
   "execution_count": null,
   "metadata": {},
   "outputs": [],
   "source": [
    "params_dt={'criterion':['gini','entropy'],'min_samples_split':np.arange(2,10),'splitter':['best','random'],'max_depth':[2,3,4,5,6],'max_features':['auto','sqrt','log2',None]}"
   ]
  },
  {
   "cell_type": "code",
   "execution_count": null,
   "metadata": {},
   "outputs": [],
   "source": [
    "dt_cv1=RandomizedSearchCV(dt,params_dt,cv=15,random_state=42)\n",
    "dt_cv1.fit(x_train_res,y_train_res)\n",
    "print(dt_cv1.best_score_)\n",
    "print(dt_cv1.best_params_)"
   ]
  },
  {
   "cell_type": "code",
   "execution_count": null,
   "metadata": {},
   "outputs": [],
   "source": [
    "DT=DecisionTreeClassifier(splitter='best',min_samples_split=7,max_features=None,max_depth=5,criterion='entropy')\n",
    "DT.fit(x_train_res,y_train_res)\n",
    "print('Training score: ',DT.score(x_train_res,y_train_res))\n",
    "print('Testing score: ',DT.score(x_test,y_test))"
   ]
  },
  {
   "cell_type": "code",
   "execution_count": null,
   "metadata": {},
   "outputs": [],
   "source": [
    "y_predict_DT=DT.predict(x_test)\n",
    "print('CONFUSION MATRIX:  ')\n",
    "print(confusion_matrix(y_test,y_predict_DT))\n",
    "print()\n",
    "print('CLASSIFICATION REPORT: ')\n",
    "print()      \n",
    "print(classification_report(y_test,y_predict_DT))"
   ]
  },
  {
   "cell_type": "markdown",
   "metadata": {},
   "source": [
    "### Random Forest Classifier"
   ]
  },
  {
   "cell_type": "code",
   "execution_count": null,
   "metadata": {},
   "outputs": [],
   "source": [
    "params_rf={'n_estimators':[5,10,15,20,50,100,200,300,400,500],'criterion':['entropy','gini'],'max_depth':[2,3,4,5,6],'max_features':['auto','sqrt','log2',None],'bootstrap':[True,False]}"
   ]
  },
  {
   "cell_type": "code",
   "execution_count": null,
   "metadata": {},
   "outputs": [],
   "source": [
    "rf_cv1=RandomizedSearchCV(rf,params_rf,cv=10,random_state=0)\n",
    "rf_cv1.fit(x_train_res,y_train_res)\n",
    "print(rf_cv1.best_score_)\n",
    "print(rf_cv1.best_params_)"
   ]
  },
  {
   "cell_type": "code",
   "execution_count": null,
   "metadata": {},
   "outputs": [],
   "source": [
    "RF=RandomForestClassifier(n_estimators=500,max_features='log2',max_depth=6,criterion='gini',bootstrap=True)\n",
    "RF.fit(x_train_res,y_train_res)\n",
    "print('Training score: ',RF.score(x_train_res,y_train_res))\n",
    "print('Testing score: ',RF.score(x_test,y_test))"
   ]
  },
  {
   "cell_type": "code",
   "execution_count": null,
   "metadata": {},
   "outputs": [],
   "source": [
    "y_predict_RF=RF.predict(x_test)\n",
    "print('CONFUSION MATRIX:  ')\n",
    "print(confusion_matrix(y_test,y_predict_RF))\n",
    "print()\n",
    "print('CLASSIFICATION REPORT: ')\n",
    "print()      \n",
    "print(classification_report(y_test,y_predict_RF))"
   ]
  },
  {
   "cell_type": "markdown",
   "metadata": {},
   "source": [
    "### KNN"
   ]
  },
  {
   "cell_type": "code",
   "execution_count": null,
   "metadata": {},
   "outputs": [],
   "source": [
    "params_knn={'n_neighbors':[5,6,7,8,9,10]}"
   ]
  },
  {
   "cell_type": "code",
   "execution_count": null,
   "metadata": {},
   "outputs": [],
   "source": [
    "knn_cv1=RandomizedSearchCV(knn,params_knn,cv=10,random_state=0)\n",
    "knn_cv1.fit(x_train_res,y_train_res)\n",
    "print(knn_cv1.best_score_)\n",
    "print(knn_cv1.best_params_)"
   ]
  },
  {
   "cell_type": "code",
   "execution_count": null,
   "metadata": {},
   "outputs": [],
   "source": [
    "Knn=KNeighborsClassifier(n_neighbors=5)\n",
    "Knn.fit(x_train_res,y_train_res)\n",
    "print('Training score: ',RF.score(x_train_res,y_train_res))\n",
    "print('Testing score: ',RF.score(x_test,y_test))"
   ]
  },
  {
   "cell_type": "code",
   "execution_count": null,
   "metadata": {},
   "outputs": [],
   "source": [
    "y_predict_KNN=Knn.predict(x_test)\n",
    "print('CONFUSION MATRIX:  ')\n",
    "print(confusion_matrix(y_test,y_predict_KNN))\n",
    "print()\n",
    "print('CLASSIFICATION REPORT: ')\n",
    "print()      \n",
    "print(classification_report(y_test,y_predict_KNN))"
   ]
  },
  {
   "cell_type": "markdown",
   "metadata": {},
   "source": [
    "### Support Vector Classifier"
   ]
  },
  {
   "cell_type": "code",
   "execution_count": null,
   "metadata": {},
   "outputs": [],
   "source": [
    "params_svm={'kernel':['linear','poly','rbf','sigmoid'],'C':list(np.arange(0.1,0.6)),'gamma':[0.0001,0.001,0.01,0.1,1,10,100,0.02,0.03,0.04,0.05],'degree':[1,2,3,4,5,6]}"
   ]
  },
  {
   "cell_type": "code",
   "execution_count": null,
   "metadata": {},
   "outputs": [],
   "source": [
    "svm_cv1=RandomizedSearchCV(svc,params_svm,cv=10,random_state=7)\n",
    "svm_cv1.fit(x_train_res,y_train_res)\n",
    "print(svm_cv1.best_score_)\n",
    "print(svm_cv1.best_params_)"
   ]
  },
  {
   "cell_type": "code",
   "execution_count": null,
   "metadata": {},
   "outputs": [],
   "source": [
    "SVM1=SVC(kernel='poly',gamma=10,degree=3,C=0.1)\n",
    "SVM1.fit(x_train_res,y_train_res)\n",
    "print('Training score: ',SVM1.score(x_train_res,y_train_res))\n",
    "print('Testing score: ',SVM1.score(x_test,y_test))"
   ]
  },
  {
   "cell_type": "code",
   "execution_count": null,
   "metadata": {},
   "outputs": [],
   "source": [
    "y_predict_SVM1=SVM1.predict(x_test)\n",
    "print('CONFUSION MATRIX:  ')\n",
    "print(confusion_matrix(y_test,y_predict_SVM1))\n",
    "print()\n",
    "print('CLASSIFICATION REPORT: ')\n",
    "print()      \n",
    "print(classification_report(y_test,y_predict_SVM1))"
   ]
  },
  {
   "cell_type": "markdown",
   "metadata": {},
   "source": [
    "### Gaussian Naive Bayes Classifier"
   ]
  },
  {
   "cell_type": "code",
   "execution_count": null,
   "metadata": {},
   "outputs": [],
   "source": [
    "from sklearn.naive_bayes import GaussianNB\n",
    "GNB=GaussianNB()\n",
    "GNB.fit(x_train_res,y_train_res)\n",
    "print('Training score: ',GNB.score(x_train_res,y_train_res))\n",
    "print('Testing score: ',GNB.score(x_test,y_test))"
   ]
  },
  {
   "cell_type": "code",
   "execution_count": null,
   "metadata": {},
   "outputs": [],
   "source": [
    "y_predict_GNB=GNB.predict(x_test)\n",
    "print('CONFUSION MATRIX:  ')\n",
    "print(confusion_matrix(y_test,y_predict_GNB))\n",
    "print()\n",
    "print('CLASSIFICATION REPORT: ')\n",
    "print()      \n",
    "print(classification_report(y_test,y_predict_GNB))"
   ]
  },
  {
   "cell_type": "markdown",
   "metadata": {},
   "source": [
    "### Bagging Classifier "
   ]
  },
  {
   "cell_type": "code",
   "execution_count": null,
   "metadata": {},
   "outputs": [],
   "source": [
    "df_bagging_sm=DataFrame(columns=['Base Estimator','Training Score','Testing Score','Time Taken','Case Of','Diff(Training-Testing)'])\n",
    "to_bag=[DT,RF,LR,Knn,SVM1,GNB]\n",
    "algo_name=['Decision Tree','Random Forest','Logistic Regression','KNN','Support Vector Classifier','Gaussian Naive Bayes Classifier']\n",
    "for i in range(len(to_bag)):\n",
    "    case_of=''\n",
    "    difference=0\n",
    "    BAG=BaggingClassifier(to_bag[i],bootstrap=True,random_state=0)\n",
    "    start=time()\n",
    "    BAG.fit(x_train_res,y_train_res)\n",
    "    end=time()\n",
    "    time_taken=end-start\n",
    "    if BAG.score(x_train_res,y_train_res)>BAG.score(x_test,y_test):\n",
    "        case_of='Overfitting'\n",
    "    else:\n",
    "        case_of='Underfitting'\n",
    "    difference=BAG.score(x_train_res,y_train_res)-BAG.score(x_test,y_test)\n",
    "    df_bagging_sm.loc[i]=[algo_name[i],BAG.score(x_train_res,y_train_res),BAG.score(x_test,y_test),time_taken,case_of,difference]\n",
    "df_bagging_sm"
   ]
  },
  {
   "cell_type": "markdown",
   "metadata": {},
   "source": [
    "### Adaboost Classifier"
   ]
  },
  {
   "cell_type": "code",
   "execution_count": null,
   "metadata": {},
   "outputs": [],
   "source": [
    "df_adaboost_sm=DataFrame(columns=['Base Estimator','Training Score','Testing Score','Time Taken','Case Of','Diff(Training-Testing)'])\n",
    "to_boost=[DT,RF,LR,SVM1,GNB]\n",
    "algo_name=['Decision Tree','Random Forest','Logistic Regression','Support Vector Classifier','Gaussian Naive Bayes Classifier']\n",
    "for i in range(len(to_boost)):\n",
    "    boost=AdaBoostClassifier(to_boost[i],n_estimators=100,algorithm='SAMME',random_state=0)\n",
    "    start=time()\n",
    "    boost.fit(x_train_res,y_train_res)\n",
    "    end=time()\n",
    "    time_taken=end-start\n",
    "    if boost.score(x_train_res,y_train_res)>boost.score(x_test,y_test):\n",
    "        case_of='Overfitting'\n",
    "    else:\n",
    "        case_of='Underfitting'\n",
    "    difference=boost.score(x_train_res,y_train_res)-boost.score(x_test,y_test)\n",
    "    df_adaboost_sm.loc[i]=[algo_name[i],boost.score(x_train_res,y_train_res),boost.score(x_test,y_test),time_taken,case_of,difference]\n",
    "df_adaboost_sm"
   ]
  },
  {
   "cell_type": "code",
   "execution_count": null,
   "metadata": {},
   "outputs": [],
   "source": [
    "from sklearn.ensemble import GradientBoostingClassifier\n",
    "gb=GradientBoostingClassifier()\n",
    "params_gb={'learning_rate':[0.1,0.2,0.3,0.4,0.5,1,2,0.01,0.02,0.05],'n_estimators':[100,150,200,300],\n",
    "           'max_depth':[2,3,4,5,6],'min_samples_split':list(np.arange(1,10)),'criterion':['friedman_mse','mse','mae']}\n",
    "GB_cv1=RandomizedSearchCV(gb,params_gb,cv=10,random_state=7)\n",
    "GB_cv1.fit(x_train_res,y_train_res)"
   ]
  },
  {
   "cell_type": "code",
   "execution_count": null,
   "metadata": {},
   "outputs": [],
   "source": [
    "print('Best score: ',GB_cv.best_score_)\n",
    "print('Best parameters: ',GB_cv.best_params_)"
   ]
  },
  {
   "cell_type": "code",
   "execution_count": null,
   "metadata": {},
   "outputs": [],
   "source": [
    "GB_sm=GradientBoostingClassifier(n_estimators=300,min_samples_split=7,max_depth=3,learning_rate=0.5,criterion='mse')\n",
    "GB_sm.fit(x_train_res,y_train_res)\n",
    "print('Training score: ',GB_sm.score(x_train_res,y_train_res))\n",
    "print('Testing score: ',GB_sm.score(x_test,y_test))"
   ]
  },
  {
   "cell_type": "code",
   "execution_count": null,
   "metadata": {},
   "outputs": [],
   "source": [
    "df_gboost_sm=DataFrame(columns=['Base Estimator','Training Score','Testing Score','Time Taken','Case Of','Diff(Training-Testing)'])\n",
    "to_boost=[DT,RF,LR,SVM1,GNB]\n",
    "algo_name=['Decision Tree','Random Forest','Logistic Regression','Support Vector Classifier','Gaussian Naive Bayes Classifier']\n",
    "for i in range(len(to_boost)):\n",
    "    gboost=GradientBoostingClassifier()\n",
    "    start=time()\n",
    "    gboost.fit(x_train_res,y_train_res)\n",
    "    end=time()\n",
    "    time_taken=end-start\n",
    "    if gboost.score(x_train_res,y_train_res)>gboost.score(x_test,y_test):\n",
    "        case_of='Overfitting'\n",
    "    else:\n",
    "        case_of='Underfitting'\n",
    "    difference=gboost.score(x_train_res,y_train_res)-gboost.score(x_test,y_test)\n",
    "    df_gboost_sm.loc[i]=[algo_name[i],gboost.score(x_train_res,y_train_res),gboost.score(x_test,y_test),time_taken,case_of,difference]\n",
    "df_gboost_sm"
   ]
  },
  {
   "cell_type": "code",
   "execution_count": 82,
   "metadata": {},
   "outputs": [],
   "source": [
    "import tensorflow as tf\n",
    "import keras\n",
    "from tensorflow.keras.models import Sequential\n",
    "from tensorflow.keras.layers import Dense, Dropout, Activation\n",
    "from tensorflow.keras.optimizers import Adam, SGD\n",
    "from keras.regularizers import l2, l1"
   ]
  },
  {
   "cell_type": "code",
   "execution_count": 83,
   "metadata": {},
   "outputs": [],
   "source": [
    "model=Sequential()\n",
    "model.add(Dense(units=18, input_dim=x.shape[1], activation='relu', kernel_regularizer=l1(0.01)))\n",
    "model.add(Dense(units=9,activation='relu'))\n",
    "model.add(Dense(units=1, activation='sigmoid'))"
   ]
  },
  {
   "cell_type": "code",
   "execution_count": 84,
   "metadata": {},
   "outputs": [
    {
     "name": "stdout",
     "output_type": "stream",
     "text": [
      "Model: \"sequential\"\n",
      "_________________________________________________________________\n",
      "Layer (type)                 Output Shape              Param #   \n",
      "=================================================================\n",
      "dense (Dense)                (None, 18)                414       \n",
      "_________________________________________________________________\n",
      "dense_1 (Dense)              (None, 9)                 171       \n",
      "_________________________________________________________________\n",
      "dense_2 (Dense)              (None, 1)                 10        \n",
      "=================================================================\n",
      "Total params: 595\n",
      "Trainable params: 595\n",
      "Non-trainable params: 0\n",
      "_________________________________________________________________\n"
     ]
    }
   ],
   "source": [
    "model.summary()"
   ]
  },
  {
   "cell_type": "code",
   "execution_count": 85,
   "metadata": {},
   "outputs": [],
   "source": [
    "model.compile(loss='binary_crossentropy', optimizer=SGD(lr=0.0001, momentum=0.9), \n",
    "              metrics=['accuracy'])"
   ]
  },
  {
   "cell_type": "code",
   "execution_count": 86,
   "metadata": {},
   "outputs": [
    {
     "name": "stdout",
     "output_type": "stream",
     "text": [
      "Epoch 1/100\n",
      "4/4 - 2s - loss: 3.5272 - accuracy: 0.7886 - val_loss: 3.3014 - val_accuracy: 0.8065\n",
      "Epoch 2/100\n",
      "4/4 - 0s - loss: 3.1929 - accuracy: 0.7886 - val_loss: 2.9220 - val_accuracy: 0.8065\n",
      "Epoch 3/100\n",
      "4/4 - 0s - loss: 2.7644 - accuracy: 0.7886 - val_loss: 2.3806 - val_accuracy: 0.8065\n",
      "Epoch 4/100\n",
      "4/4 - 0s - loss: 2.2103 - accuracy: 0.7886 - val_loss: 1.7987 - val_accuracy: 0.8065\n",
      "Epoch 5/100\n",
      "4/4 - 0s - loss: 1.5697 - accuracy: 0.7886 - val_loss: 1.2920 - val_accuracy: 0.8065\n",
      "Epoch 6/100\n",
      "4/4 - 0s - loss: 1.2516 - accuracy: 0.7724 - val_loss: 1.4368 - val_accuracy: 0.4516\n",
      "Epoch 7/100\n",
      "4/4 - 0s - loss: 1.5018 - accuracy: 0.3821 - val_loss: 1.3438 - val_accuracy: 0.6129\n",
      "Epoch 8/100\n",
      "4/4 - 0s - loss: 1.2521 - accuracy: 0.7805 - val_loss: 1.2437 - val_accuracy: 0.8065\n",
      "Epoch 9/100\n",
      "4/4 - 0s - loss: 1.2960 - accuracy: 0.7886 - val_loss: 1.3336 - val_accuracy: 0.8065\n",
      "Epoch 10/100\n",
      "4/4 - 0s - loss: 1.3189 - accuracy: 0.7886 - val_loss: 1.2902 - val_accuracy: 0.8065\n",
      "Epoch 11/100\n",
      "4/4 - 0s - loss: 1.2550 - accuracy: 0.7886 - val_loss: 1.2153 - val_accuracy: 0.8387\n",
      "Epoch 12/100\n",
      "4/4 - 0s - loss: 1.1988 - accuracy: 0.7886 - val_loss: 1.2357 - val_accuracy: 0.8387\n",
      "Epoch 13/100\n",
      "4/4 - 0s - loss: 1.2263 - accuracy: 0.7967 - val_loss: 1.2282 - val_accuracy: 0.8387\n",
      "Epoch 14/100\n",
      "4/4 - 0s - loss: 1.2114 - accuracy: 0.7967 - val_loss: 1.2133 - val_accuracy: 0.8387\n",
      "Epoch 15/100\n",
      "4/4 - 0s - loss: 1.1993 - accuracy: 0.7967 - val_loss: 1.2168 - val_accuracy: 0.8065\n",
      "Epoch 16/100\n",
      "4/4 - 0s - loss: 1.2073 - accuracy: 0.7967 - val_loss: 1.2185 - val_accuracy: 0.8065\n",
      "Epoch 17/100\n",
      "4/4 - 0s - loss: 1.2007 - accuracy: 0.7967 - val_loss: 1.2115 - val_accuracy: 0.8387\n",
      "Epoch 18/100\n",
      "4/4 - 0s - loss: 1.2057 - accuracy: 0.7967 - val_loss: 1.2156 - val_accuracy: 0.8387\n",
      "Epoch 19/100\n",
      "4/4 - 0s - loss: 1.2007 - accuracy: 0.7967 - val_loss: 1.2112 - val_accuracy: 0.8387\n",
      "Epoch 20/100\n",
      "4/4 - 0s - loss: 1.1992 - accuracy: 0.7967 - val_loss: 1.2114 - val_accuracy: 0.8387\n",
      "Epoch 21/100\n",
      "4/4 - 0s - loss: 1.2001 - accuracy: 0.7967 - val_loss: 1.2126 - val_accuracy: 0.8387\n",
      "Epoch 22/100\n",
      "4/4 - 0s - loss: 1.1988 - accuracy: 0.7967 - val_loss: 1.2091 - val_accuracy: 0.8387\n",
      "Epoch 23/100\n",
      "4/4 - 0s - loss: 1.1954 - accuracy: 0.7967 - val_loss: 1.2095 - val_accuracy: 0.8387\n",
      "Epoch 24/100\n",
      "4/4 - 0s - loss: 1.1937 - accuracy: 0.7967 - val_loss: 1.2080 - val_accuracy: 0.8387\n",
      "Epoch 25/100\n",
      "4/4 - 0s - loss: 1.1935 - accuracy: 0.7967 - val_loss: 1.2081 - val_accuracy: 0.8387\n",
      "Epoch 26/100\n",
      "4/4 - 0s - loss: 1.1921 - accuracy: 0.7967 - val_loss: 1.2073 - val_accuracy: 0.8387\n",
      "Epoch 27/100\n",
      "4/4 - 0s - loss: 1.1904 - accuracy: 0.7967 - val_loss: 1.2065 - val_accuracy: 0.8387\n",
      "Epoch 28/100\n",
      "4/4 - 0s - loss: 1.1900 - accuracy: 0.7967 - val_loss: 1.2061 - val_accuracy: 0.8387\n",
      "Epoch 29/100\n",
      "4/4 - 0s - loss: 1.1931 - accuracy: 0.7967 - val_loss: 1.2059 - val_accuracy: 0.8387\n",
      "Epoch 30/100\n",
      "4/4 - 0s - loss: 1.1878 - accuracy: 0.7967 - val_loss: 1.2051 - val_accuracy: 0.8387\n",
      "Epoch 31/100\n",
      "4/4 - 0s - loss: 1.1870 - accuracy: 0.7967 - val_loss: 1.2053 - val_accuracy: 0.8387\n",
      "Epoch 32/100\n",
      "4/4 - 0s - loss: 1.1884 - accuracy: 0.7967 - val_loss: 1.2060 - val_accuracy: 0.8387\n",
      "Epoch 33/100\n",
      "4/4 - 0s - loss: 1.1947 - accuracy: 0.7967 - val_loss: 1.2037 - val_accuracy: 0.8387\n",
      "Epoch 34/100\n",
      "4/4 - 0s - loss: 1.1856 - accuracy: 0.7967 - val_loss: 1.2030 - val_accuracy: 0.8387\n",
      "Epoch 35/100\n",
      "4/4 - 0s - loss: 1.1856 - accuracy: 0.7967 - val_loss: 1.2027 - val_accuracy: 0.8387\n",
      "Epoch 36/100\n",
      "4/4 - 0s - loss: 1.1843 - accuracy: 0.7967 - val_loss: 1.2019 - val_accuracy: 0.8387\n",
      "Epoch 37/100\n",
      "4/4 - 0s - loss: 1.1831 - accuracy: 0.7967 - val_loss: 1.2014 - val_accuracy: 0.8387\n",
      "Epoch 38/100\n",
      "4/4 - 0s - loss: 1.1838 - accuracy: 0.7967 - val_loss: 1.2008 - val_accuracy: 0.8387\n",
      "Epoch 39/100\n",
      "4/4 - 0s - loss: 1.1815 - accuracy: 0.7967 - val_loss: 1.2006 - val_accuracy: 0.8387\n",
      "Epoch 40/100\n",
      "4/4 - 0s - loss: 1.1819 - accuracy: 0.7967 - val_loss: 1.2002 - val_accuracy: 0.8387\n",
      "Epoch 41/100\n",
      "4/4 - 0s - loss: 1.1807 - accuracy: 0.7967 - val_loss: 1.2000 - val_accuracy: 0.8387\n",
      "Epoch 42/100\n",
      "4/4 - 0s - loss: 1.1796 - accuracy: 0.7967 - val_loss: 1.1988 - val_accuracy: 0.8387\n",
      "Epoch 43/100\n",
      "4/4 - 0s - loss: 1.1791 - accuracy: 0.7967 - val_loss: 1.1983 - val_accuracy: 0.8387\n",
      "Epoch 44/100\n",
      "4/4 - 0s - loss: 1.1796 - accuracy: 0.7967 - val_loss: 1.1983 - val_accuracy: 0.8387\n",
      "Epoch 45/100\n",
      "4/4 - 0s - loss: 1.1776 - accuracy: 0.7967 - val_loss: 1.1977 - val_accuracy: 0.8387\n",
      "Epoch 46/100\n",
      "4/4 - 0s - loss: 1.1770 - accuracy: 0.7967 - val_loss: 1.1974 - val_accuracy: 0.8387\n",
      "Epoch 47/100\n",
      "4/4 - 0s - loss: 1.1781 - accuracy: 0.7967 - val_loss: 1.1983 - val_accuracy: 0.8387\n",
      "Epoch 48/100\n",
      "4/4 - 0s - loss: 1.1778 - accuracy: 0.7967 - val_loss: 1.1964 - val_accuracy: 0.8387\n",
      "Epoch 49/100\n",
      "4/4 - 0s - loss: 1.1748 - accuracy: 0.7967 - val_loss: 1.1959 - val_accuracy: 0.8387\n",
      "Epoch 50/100\n",
      "4/4 - 0s - loss: 1.1745 - accuracy: 0.7967 - val_loss: 1.1955 - val_accuracy: 0.8387\n",
      "Epoch 51/100\n",
      "4/4 - 0s - loss: 1.1758 - accuracy: 0.7967 - val_loss: 1.1951 - val_accuracy: 0.8387\n",
      "Epoch 52/100\n",
      "4/4 - 0s - loss: 1.1728 - accuracy: 0.7967 - val_loss: 1.1957 - val_accuracy: 0.8387\n",
      "Epoch 53/100\n",
      "4/4 - 0s - loss: 1.1732 - accuracy: 0.7967 - val_loss: 1.1957 - val_accuracy: 0.8387\n",
      "Epoch 54/100\n",
      "4/4 - 0s - loss: 1.1726 - accuracy: 0.7967 - val_loss: 1.1946 - val_accuracy: 0.8387\n",
      "Epoch 55/100\n",
      "4/4 - 0s - loss: 1.1780 - accuracy: 0.7967 - val_loss: 1.1950 - val_accuracy: 0.8387\n",
      "Epoch 56/100\n",
      "4/4 - 0s - loss: 1.1714 - accuracy: 0.7967 - val_loss: 1.1933 - val_accuracy: 0.8387\n",
      "Epoch 57/100\n",
      "4/4 - 0s - loss: 1.1728 - accuracy: 0.7967 - val_loss: 1.1947 - val_accuracy: 0.8387\n",
      "Epoch 58/100\n",
      "4/4 - 0s - loss: 1.1706 - accuracy: 0.7967 - val_loss: 1.1927 - val_accuracy: 0.8387\n",
      "Epoch 59/100\n",
      "4/4 - 0s - loss: 1.1700 - accuracy: 0.7967 - val_loss: 1.1920 - val_accuracy: 0.8387\n",
      "Epoch 60/100\n",
      "4/4 - 0s - loss: 1.1691 - accuracy: 0.7967 - val_loss: 1.1916 - val_accuracy: 0.8387\n",
      "Epoch 61/100\n",
      "4/4 - 0s - loss: 1.1694 - accuracy: 0.7967 - val_loss: 1.1925 - val_accuracy: 0.8387\n",
      "Epoch 62/100\n",
      "4/4 - 0s - loss: 1.1672 - accuracy: 0.7967 - val_loss: 1.1911 - val_accuracy: 0.8387\n",
      "Epoch 63/100\n",
      "4/4 - 0s - loss: 1.1667 - accuracy: 0.7967 - val_loss: 1.1906 - val_accuracy: 0.8387\n",
      "Epoch 64/100\n",
      "4/4 - 0s - loss: 1.1682 - accuracy: 0.7967 - val_loss: 1.1902 - val_accuracy: 0.8387\n",
      "Epoch 65/100\n",
      "4/4 - 0s - loss: 1.1653 - accuracy: 0.7967 - val_loss: 1.1895 - val_accuracy: 0.8387\n",
      "Epoch 66/100\n",
      "4/4 - 0s - loss: 1.1647 - accuracy: 0.7967 - val_loss: 1.1900 - val_accuracy: 0.8387\n",
      "Epoch 67/100\n",
      "4/4 - 0s - loss: 1.1642 - accuracy: 0.7967 - val_loss: 1.1895 - val_accuracy: 0.8387\n",
      "Epoch 68/100\n",
      "4/4 - 0s - loss: 1.1630 - accuracy: 0.7967 - val_loss: 1.1888 - val_accuracy: 0.8387\n",
      "Epoch 69/100\n",
      "4/4 - 0s - loss: 1.1633 - accuracy: 0.7967 - val_loss: 1.1886 - val_accuracy: 0.8387\n",
      "Epoch 70/100\n",
      "4/4 - 0s - loss: 1.1627 - accuracy: 0.7967 - val_loss: 1.1879 - val_accuracy: 0.8387\n",
      "Epoch 71/100\n",
      "4/4 - 0s - loss: 1.1618 - accuracy: 0.7967 - val_loss: 1.1873 - val_accuracy: 0.8387\n",
      "Epoch 72/100\n",
      "4/4 - 0s - loss: 1.1623 - accuracy: 0.7967 - val_loss: 1.1871 - val_accuracy: 0.8387\n",
      "Epoch 73/100\n",
      "4/4 - 0s - loss: 1.1599 - accuracy: 0.7967 - val_loss: 1.1871 - val_accuracy: 0.8387\n",
      "Epoch 74/100\n",
      "4/4 - 0s - loss: 1.1597 - accuracy: 0.7967 - val_loss: 1.1864 - val_accuracy: 0.8387\n",
      "Epoch 75/100\n",
      "4/4 - 0s - loss: 1.1600 - accuracy: 0.7967 - val_loss: 1.1858 - val_accuracy: 0.8387\n",
      "Epoch 76/100\n",
      "4/4 - 0s - loss: 1.1577 - accuracy: 0.7967 - val_loss: 1.1854 - val_accuracy: 0.8387\n",
      "Epoch 77/100\n",
      "4/4 - 0s - loss: 1.1583 - accuracy: 0.7967 - val_loss: 1.1853 - val_accuracy: 0.8387\n",
      "Epoch 78/100\n",
      "4/4 - 0s - loss: 1.1591 - accuracy: 0.7967 - val_loss: 1.1849 - val_accuracy: 0.8387\n",
      "Epoch 79/100\n",
      "4/4 - 0s - loss: 1.1564 - accuracy: 0.7967 - val_loss: 1.1846 - val_accuracy: 0.8387\n",
      "Epoch 80/100\n",
      "4/4 - 0s - loss: 1.1554 - accuracy: 0.7967 - val_loss: 1.1838 - val_accuracy: 0.8387\n",
      "Epoch 81/100\n",
      "4/4 - 0s - loss: 1.1554 - accuracy: 0.7967 - val_loss: 1.1834 - val_accuracy: 0.8387\n",
      "Epoch 82/100\n",
      "4/4 - 0s - loss: 1.1543 - accuracy: 0.7967 - val_loss: 1.1830 - val_accuracy: 0.8387\n",
      "Epoch 83/100\n",
      "4/4 - 0s - loss: 1.1537 - accuracy: 0.7967 - val_loss: 1.1827 - val_accuracy: 0.8387\n",
      "Epoch 84/100\n",
      "4/4 - 0s - loss: 1.1541 - accuracy: 0.7967 - val_loss: 1.1823 - val_accuracy: 0.8387\n"
     ]
    },
    {
     "name": "stdout",
     "output_type": "stream",
     "text": [
      "Epoch 85/100\n",
      "4/4 - 0s - loss: 1.1525 - accuracy: 0.7967 - val_loss: 1.1822 - val_accuracy: 0.8387\n",
      "Epoch 86/100\n",
      "4/4 - 0s - loss: 1.1543 - accuracy: 0.7967 - val_loss: 1.1826 - val_accuracy: 0.8387\n",
      "Epoch 87/100\n",
      "4/4 - 0s - loss: 1.1551 - accuracy: 0.7967 - val_loss: 1.1825 - val_accuracy: 0.8387\n",
      "Epoch 88/100\n",
      "4/4 - 0s - loss: 1.1518 - accuracy: 0.7967 - val_loss: 1.1812 - val_accuracy: 0.8387\n",
      "Epoch 89/100\n",
      "4/4 - 0s - loss: 1.1537 - accuracy: 0.7967 - val_loss: 1.1816 - val_accuracy: 0.8387\n",
      "Epoch 90/100\n",
      "4/4 - 0s - loss: 1.1510 - accuracy: 0.7967 - val_loss: 1.1804 - val_accuracy: 0.8387\n",
      "Epoch 91/100\n",
      "4/4 - 0s - loss: 1.1506 - accuracy: 0.7967 - val_loss: 1.1814 - val_accuracy: 0.8387\n",
      "Epoch 92/100\n",
      "4/4 - 0s - loss: 1.1496 - accuracy: 0.7967 - val_loss: 1.1804 - val_accuracy: 0.8387\n",
      "Epoch 93/100\n",
      "4/4 - 0s - loss: 1.1502 - accuracy: 0.7967 - val_loss: 1.1790 - val_accuracy: 0.8387\n",
      "Epoch 94/100\n",
      "4/4 - 0s - loss: 1.1481 - accuracy: 0.7967 - val_loss: 1.1786 - val_accuracy: 0.8387\n",
      "Epoch 95/100\n",
      "4/4 - 0s - loss: 1.1478 - accuracy: 0.7967 - val_loss: 1.1791 - val_accuracy: 0.8387\n",
      "Epoch 96/100\n",
      "4/4 - 0s - loss: 1.1467 - accuracy: 0.7967 - val_loss: 1.1784 - val_accuracy: 0.8387\n",
      "Epoch 97/100\n",
      "4/4 - 0s - loss: 1.1460 - accuracy: 0.7967 - val_loss: 1.1778 - val_accuracy: 0.8387\n",
      "Epoch 98/100\n",
      "4/4 - 0s - loss: 1.1451 - accuracy: 0.7967 - val_loss: 1.1774 - val_accuracy: 0.8387\n",
      "Epoch 99/100\n",
      "4/4 - 0s - loss: 1.1456 - accuracy: 0.7967 - val_loss: 1.1771 - val_accuracy: 0.8387\n",
      "Epoch 100/100\n",
      "4/4 - 0s - loss: 1.1492 - accuracy: 0.7967 - val_loss: 1.1771 - val_accuracy: 0.8387\n"
     ]
    }
   ],
   "source": [
    "history=model.fit(x_train, y_train, validation_data=(x_test, y_test), epochs=100, verbose=2)"
   ]
  },
  {
   "cell_type": "code",
   "execution_count": 87,
   "metadata": {},
   "outputs": [
    {
     "data": {
      "text/html": [
       "<div>\n",
       "<style scoped>\n",
       "    .dataframe tbody tr th:only-of-type {\n",
       "        vertical-align: middle;\n",
       "    }\n",
       "\n",
       "    .dataframe tbody tr th {\n",
       "        vertical-align: top;\n",
       "    }\n",
       "\n",
       "    .dataframe thead th {\n",
       "        text-align: right;\n",
       "    }\n",
       "</style>\n",
       "<table border=\"1\" class=\"dataframe\">\n",
       "  <thead>\n",
       "    <tr style=\"text-align: right;\">\n",
       "      <th></th>\n",
       "      <th>loss</th>\n",
       "      <th>accuracy</th>\n",
       "      <th>val_loss</th>\n",
       "      <th>val_accuracy</th>\n",
       "    </tr>\n",
       "  </thead>\n",
       "  <tbody>\n",
       "    <tr>\n",
       "      <th>0</th>\n",
       "      <td>3.527241</td>\n",
       "      <td>0.788618</td>\n",
       "      <td>3.301371</td>\n",
       "      <td>0.806452</td>\n",
       "    </tr>\n",
       "    <tr>\n",
       "      <th>1</th>\n",
       "      <td>3.192881</td>\n",
       "      <td>0.788618</td>\n",
       "      <td>2.921988</td>\n",
       "      <td>0.806452</td>\n",
       "    </tr>\n",
       "    <tr>\n",
       "      <th>2</th>\n",
       "      <td>2.764362</td>\n",
       "      <td>0.788618</td>\n",
       "      <td>2.380553</td>\n",
       "      <td>0.806452</td>\n",
       "    </tr>\n",
       "    <tr>\n",
       "      <th>3</th>\n",
       "      <td>2.210268</td>\n",
       "      <td>0.788618</td>\n",
       "      <td>1.798735</td>\n",
       "      <td>0.806452</td>\n",
       "    </tr>\n",
       "    <tr>\n",
       "      <th>4</th>\n",
       "      <td>1.569684</td>\n",
       "      <td>0.788618</td>\n",
       "      <td>1.292000</td>\n",
       "      <td>0.806452</td>\n",
       "    </tr>\n",
       "  </tbody>\n",
       "</table>\n",
       "</div>"
      ],
      "text/plain": [
       "       loss  accuracy  val_loss  val_accuracy\n",
       "0  3.527241  0.788618  3.301371      0.806452\n",
       "1  3.192881  0.788618  2.921988      0.806452\n",
       "2  2.764362  0.788618  2.380553      0.806452\n",
       "3  2.210268  0.788618  1.798735      0.806452\n",
       "4  1.569684  0.788618  1.292000      0.806452"
      ]
     },
     "execution_count": 87,
     "metadata": {},
     "output_type": "execute_result"
    }
   ],
   "source": [
    "loss=DataFrame(history.history)\n",
    "loss.head()"
   ]
  },
  {
   "cell_type": "code",
   "execution_count": 88,
   "metadata": {},
   "outputs": [
    {
     "data": {
      "image/png": "[encoded data removed]",
      "text/plain": [
       "<Figure size 432x288 with 1 Axes>"
      ]
     },
     "metadata": {
      "needs_background": "light"
     },
     "output_type": "display_data"
    }
   ],
   "source": [
    "loss[['loss', 'val_loss']].plot()\n",
    "plt.show()"
   ]
  },
  {
   "cell_type": "code",
   "execution_count": 89,
   "metadata": {},
   "outputs": [
    {
     "data": {
      "image/png": "[encoded data removed]",
      "text/plain": [
       "<Figure size 432x288 with 1 Axes>"
      ]
     },
     "metadata": {
      "needs_background": "light"
     },
     "output_type": "display_data"
    }
   ],
   "source": [
    "loss[['accuracy', 'val_accuracy']].plot()\n",
    "plt.show()"
   ]
  },
  {
   "cell_type": "code",
   "execution_count": 90,
   "metadata": {},
   "outputs": [
    {
     "name": "stdout",
     "output_type": "stream",
     "text": [
      "Training accuracy:  0.7967479825019836\n",
      "Testng accuracy:  0.8387096524238586\n"
     ]
    }
   ],
   "source": [
    "_, train_acc = model.evaluate(x_train, y_train, verbose=0)\n",
    "_, test_acc = model.evaluate(x_test, y_test, verbose=0)\n",
    "print('Training accuracy: ', train_acc)\n",
    "print('Testng accuracy: ', test_acc)"
   ]
  },
  {
   "cell_type": "code",
   "execution_count": null,
   "metadata": {},
   "outputs": [],
   "source": []
  }
 ],
 "metadata": {
  "kernelspec": {
   "display_name": "Python 3",
   "language": "python",
   "name": "python3"
  },
  "language_info": {
   "codemirror_mode": {
    "name": "ipython",
    "version": 3
   },
   "file_extension": ".py",
   "mimetype": "text/x-python",
   "name": "python",
   "nbconvert_exporter": "python",
   "pygments_lexer": "ipython3",
   "version": "3.8.5"
  }
 },
 "nbformat": 4,
 "nbformat_minor": 2
}
